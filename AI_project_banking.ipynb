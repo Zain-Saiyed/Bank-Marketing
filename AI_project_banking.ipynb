{
  "nbformat": 4,
  "nbformat_minor": 0,
  "metadata": {
    "colab": {
      "name": "AI_project_banking.ipynb",
      "provenance": [],
      "collapsed_sections": [],
      "toc_visible": true
    },
    "kernelspec": {
      "display_name": "Python 3",
      "language": "python",
      "name": "python3"
    },
    "language_info": {
      "codemirror_mode": {
        "name": "ipython",
        "version": 3
      },
      "file_extension": ".py",
      "mimetype": "text/x-python",
      "name": "python",
      "nbconvert_exporter": "python",
      "pygments_lexer": "ipython3",
      "version": "3.8.3"
    }
  },
  "cells": [
    {
      "cell_type": "markdown",
      "metadata": {
        "id": "1Sr1-Sbkv3JK"
      },
      "source": [
        "# AI - Project : Bank Marketing Subscriber Predicition\n",
        "\n",
        "### Zainuddin Saiyed - **17070122079**\n",
        "\n",
        "#### Abstract : \n",
        "\n",
        "The data is related with direct marketing campaigns (phone calls) of a Portuguese banking institution. The classification goal is to predict if the client will subscribe a term deposit (variable y).\n",
        "\n",
        "#### Data Set Information:\n",
        "The data is related with direct marketing campaigns of a Portuguese banking institution. The marketing campaigns were based on phone calls. Often, more than one contact to the same client was required, in order to access if the product (bank term deposit) would be ('yes') or not ('no') subscribed."
      ]
    },
    {
      "cell_type": "code",
      "metadata": {
        "id": "B8o3HpambFqA"
      },
      "source": [
        "# Importing Neccessary libraries\n",
        "\n",
        "import pandas as pd\n",
        "import numpy as np\n",
        "import matplotlib.pyplot as plt\n",
        "import seaborn as sns\n",
        "%matplotlib inline\n",
        "import warnings\n",
        "warnings.filterwarnings('ignore')"
      ],
      "execution_count": 1,
      "outputs": []
    },
    {
      "cell_type": "code",
      "metadata": {
        "id": "e1AS717Qbcyy"
      },
      "source": [
        "# Reading the Raw dataset.\n",
        "raw_df = pd.read_csv('bank-additional-full.csv',sep=';')"
      ],
      "execution_count": 2,
      "outputs": []
    },
    {
      "cell_type": "code",
      "metadata": {
        "colab": {
          "base_uri": "https://localhost:8080/",
          "height": 226
        },
        "id": "nYTZ7hi9biYm",
        "outputId": "3b71f1de-3366-4c04-c6b4-b33e05e9ae41"
      },
      "source": [
        "# Viewing First 5 rows\n",
        "raw_df.head()"
      ],
      "execution_count": 3,
      "outputs": [
        {
          "output_type": "execute_result",
          "data": {
            "text/html": [
              "<div>\n",
              "<style scoped>\n",
              "    .dataframe tbody tr th:only-of-type {\n",
              "        vertical-align: middle;\n",
              "    }\n",
              "\n",
              "    .dataframe tbody tr th {\n",
              "        vertical-align: top;\n",
              "    }\n",
              "\n",
              "    .dataframe thead th {\n",
              "        text-align: right;\n",
              "    }\n",
              "</style>\n",
              "<table border=\"1\" class=\"dataframe\">\n",
              "  <thead>\n",
              "    <tr style=\"text-align: right;\">\n",
              "      <th></th>\n",
              "      <th>age</th>\n",
              "      <th>job</th>\n",
              "      <th>marital</th>\n",
              "      <th>education</th>\n",
              "      <th>default</th>\n",
              "      <th>housing</th>\n",
              "      <th>loan</th>\n",
              "      <th>contact</th>\n",
              "      <th>month</th>\n",
              "      <th>day_of_week</th>\n",
              "      <th>duration</th>\n",
              "      <th>campaign</th>\n",
              "      <th>pdays</th>\n",
              "      <th>previous</th>\n",
              "      <th>poutcome</th>\n",
              "      <th>emp.var.rate</th>\n",
              "      <th>cons.price.idx</th>\n",
              "      <th>cons.conf.idx</th>\n",
              "      <th>euribor3m</th>\n",
              "      <th>nr.employed</th>\n",
              "      <th>y</th>\n",
              "    </tr>\n",
              "  </thead>\n",
              "  <tbody>\n",
              "    <tr>\n",
              "      <th>0</th>\n",
              "      <td>56</td>\n",
              "      <td>housemaid</td>\n",
              "      <td>married</td>\n",
              "      <td>basic.4y</td>\n",
              "      <td>no</td>\n",
              "      <td>no</td>\n",
              "      <td>no</td>\n",
              "      <td>telephone</td>\n",
              "      <td>may</td>\n",
              "      <td>mon</td>\n",
              "      <td>261</td>\n",
              "      <td>1</td>\n",
              "      <td>999</td>\n",
              "      <td>0</td>\n",
              "      <td>nonexistent</td>\n",
              "      <td>1.1</td>\n",
              "      <td>93.994</td>\n",
              "      <td>-36.4</td>\n",
              "      <td>4.857</td>\n",
              "      <td>5191.0</td>\n",
              "      <td>no</td>\n",
              "    </tr>\n",
              "    <tr>\n",
              "      <th>1</th>\n",
              "      <td>57</td>\n",
              "      <td>services</td>\n",
              "      <td>married</td>\n",
              "      <td>high.school</td>\n",
              "      <td>unknown</td>\n",
              "      <td>no</td>\n",
              "      <td>no</td>\n",
              "      <td>telephone</td>\n",
              "      <td>may</td>\n",
              "      <td>mon</td>\n",
              "      <td>149</td>\n",
              "      <td>1</td>\n",
              "      <td>999</td>\n",
              "      <td>0</td>\n",
              "      <td>nonexistent</td>\n",
              "      <td>1.1</td>\n",
              "      <td>93.994</td>\n",
              "      <td>-36.4</td>\n",
              "      <td>4.857</td>\n",
              "      <td>5191.0</td>\n",
              "      <td>no</td>\n",
              "    </tr>\n",
              "    <tr>\n",
              "      <th>2</th>\n",
              "      <td>37</td>\n",
              "      <td>services</td>\n",
              "      <td>married</td>\n",
              "      <td>high.school</td>\n",
              "      <td>no</td>\n",
              "      <td>yes</td>\n",
              "      <td>no</td>\n",
              "      <td>telephone</td>\n",
              "      <td>may</td>\n",
              "      <td>mon</td>\n",
              "      <td>226</td>\n",
              "      <td>1</td>\n",
              "      <td>999</td>\n",
              "      <td>0</td>\n",
              "      <td>nonexistent</td>\n",
              "      <td>1.1</td>\n",
              "      <td>93.994</td>\n",
              "      <td>-36.4</td>\n",
              "      <td>4.857</td>\n",
              "      <td>5191.0</td>\n",
              "      <td>no</td>\n",
              "    </tr>\n",
              "    <tr>\n",
              "      <th>3</th>\n",
              "      <td>40</td>\n",
              "      <td>admin.</td>\n",
              "      <td>married</td>\n",
              "      <td>basic.6y</td>\n",
              "      <td>no</td>\n",
              "      <td>no</td>\n",
              "      <td>no</td>\n",
              "      <td>telephone</td>\n",
              "      <td>may</td>\n",
              "      <td>mon</td>\n",
              "      <td>151</td>\n",
              "      <td>1</td>\n",
              "      <td>999</td>\n",
              "      <td>0</td>\n",
              "      <td>nonexistent</td>\n",
              "      <td>1.1</td>\n",
              "      <td>93.994</td>\n",
              "      <td>-36.4</td>\n",
              "      <td>4.857</td>\n",
              "      <td>5191.0</td>\n",
              "      <td>no</td>\n",
              "    </tr>\n",
              "    <tr>\n",
              "      <th>4</th>\n",
              "      <td>56</td>\n",
              "      <td>services</td>\n",
              "      <td>married</td>\n",
              "      <td>high.school</td>\n",
              "      <td>no</td>\n",
              "      <td>no</td>\n",
              "      <td>yes</td>\n",
              "      <td>telephone</td>\n",
              "      <td>may</td>\n",
              "      <td>mon</td>\n",
              "      <td>307</td>\n",
              "      <td>1</td>\n",
              "      <td>999</td>\n",
              "      <td>0</td>\n",
              "      <td>nonexistent</td>\n",
              "      <td>1.1</td>\n",
              "      <td>93.994</td>\n",
              "      <td>-36.4</td>\n",
              "      <td>4.857</td>\n",
              "      <td>5191.0</td>\n",
              "      <td>no</td>\n",
              "    </tr>\n",
              "  </tbody>\n",
              "</table>\n",
              "</div>"
            ],
            "text/plain": [
              "   age        job  marital  ... euribor3m nr.employed   y\n",
              "0   56  housemaid  married  ...     4.857      5191.0  no\n",
              "1   57   services  married  ...     4.857      5191.0  no\n",
              "2   37   services  married  ...     4.857      5191.0  no\n",
              "3   40     admin.  married  ...     4.857      5191.0  no\n",
              "4   56   services  married  ...     4.857      5191.0  no\n",
              "\n",
              "[5 rows x 21 columns]"
            ]
          },
          "metadata": {
            "tags": []
          },
          "execution_count": 3
        }
      ]
    },
    {
      "cell_type": "code",
      "metadata": {
        "id": "afL75Ne-00Fq"
      },
      "source": [
        "# Changing name of Target column name\n",
        "raw_df = raw_df.rename(columns={'y':'deposit_subscriber'})"
      ],
      "execution_count": 4,
      "outputs": []
    },
    {
      "cell_type": "code",
      "metadata": {
        "colab": {
          "base_uri": "https://localhost:8080/"
        },
        "id": "IgKILjCCbjez",
        "outputId": "66015f2d-f042-42cc-bf25-1c333212555b"
      },
      "source": [
        "# Getting info of raw Dataset\n",
        "raw_df.info()"
      ],
      "execution_count": 5,
      "outputs": [
        {
          "output_type": "stream",
          "text": [
            "<class 'pandas.core.frame.DataFrame'>\n",
            "RangeIndex: 41188 entries, 0 to 41187\n",
            "Data columns (total 21 columns):\n",
            " #   Column              Non-Null Count  Dtype  \n",
            "---  ------              --------------  -----  \n",
            " 0   age                 41188 non-null  int64  \n",
            " 1   job                 41188 non-null  object \n",
            " 2   marital             41188 non-null  object \n",
            " 3   education           41188 non-null  object \n",
            " 4   default             41188 non-null  object \n",
            " 5   housing             41188 non-null  object \n",
            " 6   loan                41188 non-null  object \n",
            " 7   contact             41188 non-null  object \n",
            " 8   month               41188 non-null  object \n",
            " 9   day_of_week         41188 non-null  object \n",
            " 10  duration            41188 non-null  int64  \n",
            " 11  campaign            41188 non-null  int64  \n",
            " 12  pdays               41188 non-null  int64  \n",
            " 13  previous            41188 non-null  int64  \n",
            " 14  poutcome            41188 non-null  object \n",
            " 15  emp.var.rate        41188 non-null  float64\n",
            " 16  cons.price.idx      41188 non-null  float64\n",
            " 17  cons.conf.idx       41188 non-null  float64\n",
            " 18  euribor3m           41188 non-null  float64\n",
            " 19  nr.employed         41188 non-null  float64\n",
            " 20  deposit_subscriber  41188 non-null  object \n",
            "dtypes: float64(5), int64(5), object(11)\n",
            "memory usage: 6.6+ MB\n"
          ],
          "name": "stdout"
        }
      ]
    },
    {
      "cell_type": "code",
      "metadata": {
        "colab": {
          "base_uri": "https://localhost:8080/",
          "height": 300
        },
        "id": "bQbd4vVMbxVp",
        "outputId": "58a94d0c-7b5e-4034-dca4-50c84b1feb68"
      },
      "source": [
        "# Describing the raw Dataset\n",
        "raw_df.describe()"
      ],
      "execution_count": 6,
      "outputs": [
        {
          "output_type": "execute_result",
          "data": {
            "text/html": [
              "<div>\n",
              "<style scoped>\n",
              "    .dataframe tbody tr th:only-of-type {\n",
              "        vertical-align: middle;\n",
              "    }\n",
              "\n",
              "    .dataframe tbody tr th {\n",
              "        vertical-align: top;\n",
              "    }\n",
              "\n",
              "    .dataframe thead th {\n",
              "        text-align: right;\n",
              "    }\n",
              "</style>\n",
              "<table border=\"1\" class=\"dataframe\">\n",
              "  <thead>\n",
              "    <tr style=\"text-align: right;\">\n",
              "      <th></th>\n",
              "      <th>age</th>\n",
              "      <th>duration</th>\n",
              "      <th>campaign</th>\n",
              "      <th>pdays</th>\n",
              "      <th>previous</th>\n",
              "      <th>emp.var.rate</th>\n",
              "      <th>cons.price.idx</th>\n",
              "      <th>cons.conf.idx</th>\n",
              "      <th>euribor3m</th>\n",
              "      <th>nr.employed</th>\n",
              "    </tr>\n",
              "  </thead>\n",
              "  <tbody>\n",
              "    <tr>\n",
              "      <th>count</th>\n",
              "      <td>41188.00000</td>\n",
              "      <td>41188.000000</td>\n",
              "      <td>41188.000000</td>\n",
              "      <td>41188.000000</td>\n",
              "      <td>41188.000000</td>\n",
              "      <td>41188.000000</td>\n",
              "      <td>41188.000000</td>\n",
              "      <td>41188.000000</td>\n",
              "      <td>41188.000000</td>\n",
              "      <td>41188.000000</td>\n",
              "    </tr>\n",
              "    <tr>\n",
              "      <th>mean</th>\n",
              "      <td>40.02406</td>\n",
              "      <td>258.285010</td>\n",
              "      <td>2.567593</td>\n",
              "      <td>962.475454</td>\n",
              "      <td>0.172963</td>\n",
              "      <td>0.081886</td>\n",
              "      <td>93.575664</td>\n",
              "      <td>-40.502600</td>\n",
              "      <td>3.621291</td>\n",
              "      <td>5167.035911</td>\n",
              "    </tr>\n",
              "    <tr>\n",
              "      <th>std</th>\n",
              "      <td>10.42125</td>\n",
              "      <td>259.279249</td>\n",
              "      <td>2.770014</td>\n",
              "      <td>186.910907</td>\n",
              "      <td>0.494901</td>\n",
              "      <td>1.570960</td>\n",
              "      <td>0.578840</td>\n",
              "      <td>4.628198</td>\n",
              "      <td>1.734447</td>\n",
              "      <td>72.251528</td>\n",
              "    </tr>\n",
              "    <tr>\n",
              "      <th>min</th>\n",
              "      <td>17.00000</td>\n",
              "      <td>0.000000</td>\n",
              "      <td>1.000000</td>\n",
              "      <td>0.000000</td>\n",
              "      <td>0.000000</td>\n",
              "      <td>-3.400000</td>\n",
              "      <td>92.201000</td>\n",
              "      <td>-50.800000</td>\n",
              "      <td>0.634000</td>\n",
              "      <td>4963.600000</td>\n",
              "    </tr>\n",
              "    <tr>\n",
              "      <th>25%</th>\n",
              "      <td>32.00000</td>\n",
              "      <td>102.000000</td>\n",
              "      <td>1.000000</td>\n",
              "      <td>999.000000</td>\n",
              "      <td>0.000000</td>\n",
              "      <td>-1.800000</td>\n",
              "      <td>93.075000</td>\n",
              "      <td>-42.700000</td>\n",
              "      <td>1.344000</td>\n",
              "      <td>5099.100000</td>\n",
              "    </tr>\n",
              "    <tr>\n",
              "      <th>50%</th>\n",
              "      <td>38.00000</td>\n",
              "      <td>180.000000</td>\n",
              "      <td>2.000000</td>\n",
              "      <td>999.000000</td>\n",
              "      <td>0.000000</td>\n",
              "      <td>1.100000</td>\n",
              "      <td>93.749000</td>\n",
              "      <td>-41.800000</td>\n",
              "      <td>4.857000</td>\n",
              "      <td>5191.000000</td>\n",
              "    </tr>\n",
              "    <tr>\n",
              "      <th>75%</th>\n",
              "      <td>47.00000</td>\n",
              "      <td>319.000000</td>\n",
              "      <td>3.000000</td>\n",
              "      <td>999.000000</td>\n",
              "      <td>0.000000</td>\n",
              "      <td>1.400000</td>\n",
              "      <td>93.994000</td>\n",
              "      <td>-36.400000</td>\n",
              "      <td>4.961000</td>\n",
              "      <td>5228.100000</td>\n",
              "    </tr>\n",
              "    <tr>\n",
              "      <th>max</th>\n",
              "      <td>98.00000</td>\n",
              "      <td>4918.000000</td>\n",
              "      <td>56.000000</td>\n",
              "      <td>999.000000</td>\n",
              "      <td>7.000000</td>\n",
              "      <td>1.400000</td>\n",
              "      <td>94.767000</td>\n",
              "      <td>-26.900000</td>\n",
              "      <td>5.045000</td>\n",
              "      <td>5228.100000</td>\n",
              "    </tr>\n",
              "  </tbody>\n",
              "</table>\n",
              "</div>"
            ],
            "text/plain": [
              "               age      duration  ...     euribor3m   nr.employed\n",
              "count  41188.00000  41188.000000  ...  41188.000000  41188.000000\n",
              "mean      40.02406    258.285010  ...      3.621291   5167.035911\n",
              "std       10.42125    259.279249  ...      1.734447     72.251528\n",
              "min       17.00000      0.000000  ...      0.634000   4963.600000\n",
              "25%       32.00000    102.000000  ...      1.344000   5099.100000\n",
              "50%       38.00000    180.000000  ...      4.857000   5191.000000\n",
              "75%       47.00000    319.000000  ...      4.961000   5228.100000\n",
              "max       98.00000   4918.000000  ...      5.045000   5228.100000\n",
              "\n",
              "[8 rows x 10 columns]"
            ]
          },
          "metadata": {
            "tags": []
          },
          "execution_count": 6
        }
      ]
    },
    {
      "cell_type": "code",
      "metadata": {
        "colab": {
          "base_uri": "https://localhost:8080/"
        },
        "id": "h_TqsYY2byve",
        "outputId": "cd3a18dc-de62-4d85-dfdb-93aa1ff53aca"
      },
      "source": [
        "# Getting all column names\n",
        "raw_df.columns"
      ],
      "execution_count": 7,
      "outputs": [
        {
          "output_type": "execute_result",
          "data": {
            "text/plain": [
              "Index(['age', 'job', 'marital', 'education', 'default', 'housing', 'loan',\n",
              "       'contact', 'month', 'day_of_week', 'duration', 'campaign', 'pdays',\n",
              "       'previous', 'poutcome', 'emp.var.rate', 'cons.price.idx',\n",
              "       'cons.conf.idx', 'euribor3m', 'nr.employed', 'deposit_subscriber'],\n",
              "      dtype='object')"
            ]
          },
          "metadata": {
            "tags": []
          },
          "execution_count": 7
        }
      ]
    },
    {
      "cell_type": "markdown",
      "metadata": {
        "id": "FJ-6DXRIcG2h"
      },
      "source": [
        "# Exploratory Data Analysis"
      ]
    },
    {
      "cell_type": "code",
      "metadata": {
        "colab": {
          "base_uri": "https://localhost:8080/",
          "height": 206
        },
        "id": "nv4jplqZdE11",
        "outputId": "34501bb7-d8b6-4990-e43d-28c477604906"
      },
      "source": [
        "columns = [\"age\",\"job\",\"marital\",\"education\",\"default\",\"housing\",\"loan\"]\n",
        "df = raw_df[columns]\n",
        "df.head()"
      ],
      "execution_count": 8,
      "outputs": [
        {
          "output_type": "execute_result",
          "data": {
            "text/html": [
              "<div>\n",
              "<style scoped>\n",
              "    .dataframe tbody tr th:only-of-type {\n",
              "        vertical-align: middle;\n",
              "    }\n",
              "\n",
              "    .dataframe tbody tr th {\n",
              "        vertical-align: top;\n",
              "    }\n",
              "\n",
              "    .dataframe thead th {\n",
              "        text-align: right;\n",
              "    }\n",
              "</style>\n",
              "<table border=\"1\" class=\"dataframe\">\n",
              "  <thead>\n",
              "    <tr style=\"text-align: right;\">\n",
              "      <th></th>\n",
              "      <th>age</th>\n",
              "      <th>job</th>\n",
              "      <th>marital</th>\n",
              "      <th>education</th>\n",
              "      <th>default</th>\n",
              "      <th>housing</th>\n",
              "      <th>loan</th>\n",
              "    </tr>\n",
              "  </thead>\n",
              "  <tbody>\n",
              "    <tr>\n",
              "      <th>0</th>\n",
              "      <td>56</td>\n",
              "      <td>housemaid</td>\n",
              "      <td>married</td>\n",
              "      <td>basic.4y</td>\n",
              "      <td>no</td>\n",
              "      <td>no</td>\n",
              "      <td>no</td>\n",
              "    </tr>\n",
              "    <tr>\n",
              "      <th>1</th>\n",
              "      <td>57</td>\n",
              "      <td>services</td>\n",
              "      <td>married</td>\n",
              "      <td>high.school</td>\n",
              "      <td>unknown</td>\n",
              "      <td>no</td>\n",
              "      <td>no</td>\n",
              "    </tr>\n",
              "    <tr>\n",
              "      <th>2</th>\n",
              "      <td>37</td>\n",
              "      <td>services</td>\n",
              "      <td>married</td>\n",
              "      <td>high.school</td>\n",
              "      <td>no</td>\n",
              "      <td>yes</td>\n",
              "      <td>no</td>\n",
              "    </tr>\n",
              "    <tr>\n",
              "      <th>3</th>\n",
              "      <td>40</td>\n",
              "      <td>admin.</td>\n",
              "      <td>married</td>\n",
              "      <td>basic.6y</td>\n",
              "      <td>no</td>\n",
              "      <td>no</td>\n",
              "      <td>no</td>\n",
              "    </tr>\n",
              "    <tr>\n",
              "      <th>4</th>\n",
              "      <td>56</td>\n",
              "      <td>services</td>\n",
              "      <td>married</td>\n",
              "      <td>high.school</td>\n",
              "      <td>no</td>\n",
              "      <td>no</td>\n",
              "      <td>yes</td>\n",
              "    </tr>\n",
              "  </tbody>\n",
              "</table>\n",
              "</div>"
            ],
            "text/plain": [
              "   age        job  marital    education  default housing loan\n",
              "0   56  housemaid  married     basic.4y       no      no   no\n",
              "1   57   services  married  high.school  unknown      no   no\n",
              "2   37   services  married  high.school       no     yes   no\n",
              "3   40     admin.  married     basic.6y       no      no   no\n",
              "4   56   services  married  high.school       no      no  yes"
            ]
          },
          "metadata": {
            "tags": []
          },
          "execution_count": 8
        }
      ]
    },
    {
      "cell_type": "code",
      "metadata": {
        "colab": {
          "base_uri": "https://localhost:8080/",
          "height": 206
        },
        "id": "4zFVCLxNdLKH",
        "outputId": "7e571a9f-c9eb-49ef-d90a-8389fdc50693"
      },
      "source": [
        "y_columns = [\"deposit_subscriber\"]\n",
        "y_df = pd.get_dummies(raw_df[y_columns], columns = ['deposit_subscriber'], prefix = ['y'],drop_first=True)\n",
        "y_df.head()"
      ],
      "execution_count": 9,
      "outputs": [
        {
          "output_type": "execute_result",
          "data": {
            "text/html": [
              "<div>\n",
              "<style scoped>\n",
              "    .dataframe tbody tr th:only-of-type {\n",
              "        vertical-align: middle;\n",
              "    }\n",
              "\n",
              "    .dataframe tbody tr th {\n",
              "        vertical-align: top;\n",
              "    }\n",
              "\n",
              "    .dataframe thead th {\n",
              "        text-align: right;\n",
              "    }\n",
              "</style>\n",
              "<table border=\"1\" class=\"dataframe\">\n",
              "  <thead>\n",
              "    <tr style=\"text-align: right;\">\n",
              "      <th></th>\n",
              "      <th>y_yes</th>\n",
              "    </tr>\n",
              "  </thead>\n",
              "  <tbody>\n",
              "    <tr>\n",
              "      <th>0</th>\n",
              "      <td>0</td>\n",
              "    </tr>\n",
              "    <tr>\n",
              "      <th>1</th>\n",
              "      <td>0</td>\n",
              "    </tr>\n",
              "    <tr>\n",
              "      <th>2</th>\n",
              "      <td>0</td>\n",
              "    </tr>\n",
              "    <tr>\n",
              "      <th>3</th>\n",
              "      <td>0</td>\n",
              "    </tr>\n",
              "    <tr>\n",
              "      <th>4</th>\n",
              "      <td>0</td>\n",
              "    </tr>\n",
              "  </tbody>\n",
              "</table>\n",
              "</div>"
            ],
            "text/plain": [
              "   y_yes\n",
              "0      0\n",
              "1      0\n",
              "2      0\n",
              "3      0\n",
              "4      0"
            ]
          },
          "metadata": {
            "tags": []
          },
          "execution_count": 9
        }
      ]
    },
    {
      "cell_type": "markdown",
      "metadata": {
        "id": "p_9Vhz3_Yk7A"
      },
      "source": [
        "#### Checking null values in features and target DataFrames :"
      ]
    },
    {
      "cell_type": "code",
      "metadata": {
        "colab": {
          "base_uri": "https://localhost:8080/"
        },
        "id": "fFeiAIEuYkF0",
        "outputId": "3d1235ab-9d80-4f96-b340-b7da384f8d56"
      },
      "source": [
        "# X\n",
        "df.isna().sum()"
      ],
      "execution_count": 10,
      "outputs": [
        {
          "output_type": "execute_result",
          "data": {
            "text/plain": [
              "age          0\n",
              "job          0\n",
              "marital      0\n",
              "education    0\n",
              "default      0\n",
              "housing      0\n",
              "loan         0\n",
              "dtype: int64"
            ]
          },
          "metadata": {
            "tags": []
          },
          "execution_count": 10
        }
      ]
    },
    {
      "cell_type": "code",
      "metadata": {
        "colab": {
          "base_uri": "https://localhost:8080/"
        },
        "id": "ujcV1qh2ZEo8",
        "outputId": "a3cf01d6-e9c6-4b2b-a4cc-8743847b8708"
      },
      "source": [
        "# Y\n",
        "y_df.isna().sum()"
      ],
      "execution_count": 11,
      "outputs": [
        {
          "output_type": "execute_result",
          "data": {
            "text/plain": [
              "y_yes    0\n",
              "dtype: int64"
            ]
          },
          "metadata": {
            "tags": []
          },
          "execution_count": 11
        }
      ]
    },
    {
      "cell_type": "markdown",
      "metadata": {
        "id": "5DwMnEG_31w0"
      },
      "source": [
        "## I.A Bank client data Analysis"
      ]
    },
    {
      "cell_type": "code",
      "metadata": {
        "colab": {
          "base_uri": "https://localhost:8080/"
        },
        "id": "UVT9-ZEHwMnw",
        "outputId": "ab6ada22-751e-464d-d652-c0ceaa1e9a90"
      },
      "source": [
        "# Seeing all unique aoccurences of the feature columns.\n",
        "for i in [\"job\",\"marital\",\"education\",\"default\",\"housing\",\"loan\"]:\n",
        "    print(f'{i} :\\n')\n",
        "    print(df[i].value_counts())\n",
        "    print(\"---\"*10,\"\\n\")"
      ],
      "execution_count": 12,
      "outputs": [
        {
          "output_type": "stream",
          "text": [
            "job :\n",
            "\n",
            "admin.           10422\n",
            "blue-collar       9254\n",
            "technician        6743\n",
            "services          3969\n",
            "management        2924\n",
            "retired           1720\n",
            "entrepreneur      1456\n",
            "self-employed     1421\n",
            "housemaid         1060\n",
            "unemployed        1014\n",
            "student            875\n",
            "unknown            330\n",
            "Name: job, dtype: int64\n",
            "------------------------------ \n",
            "\n",
            "marital :\n",
            "\n",
            "married     24928\n",
            "single      11568\n",
            "divorced     4612\n",
            "unknown        80\n",
            "Name: marital, dtype: int64\n",
            "------------------------------ \n",
            "\n",
            "education :\n",
            "\n",
            "university.degree      12168\n",
            "high.school             9515\n",
            "basic.9y                6045\n",
            "professional.course     5243\n",
            "basic.4y                4176\n",
            "basic.6y                2292\n",
            "unknown                 1731\n",
            "illiterate                18\n",
            "Name: education, dtype: int64\n",
            "------------------------------ \n",
            "\n",
            "default :\n",
            "\n",
            "no         32588\n",
            "unknown     8597\n",
            "yes            3\n",
            "Name: default, dtype: int64\n",
            "------------------------------ \n",
            "\n",
            "housing :\n",
            "\n",
            "yes        21576\n",
            "no         18622\n",
            "unknown      990\n",
            "Name: housing, dtype: int64\n",
            "------------------------------ \n",
            "\n",
            "loan :\n",
            "\n",
            "no         33950\n",
            "yes         6248\n",
            "unknown      990\n",
            "Name: loan, dtype: int64\n",
            "------------------------------ \n",
            "\n"
          ],
          "name": "stdout"
        }
      ]
    },
    {
      "cell_type": "code",
      "metadata": {
        "colab": {
          "base_uri": "https://localhost:8080/"
        },
        "id": "77dBb45J3-BB",
        "outputId": "db82e691-80a3-4923-cf54-6b0c075c7771"
      },
      "source": [
        "# Getting min, max and mean age of people.\n",
        "print('Age:\\n')\n",
        "df['age'].describe()"
      ],
      "execution_count": 13,
      "outputs": [
        {
          "output_type": "stream",
          "text": [
            "Age:\n",
            "\n"
          ],
          "name": "stdout"
        },
        {
          "output_type": "execute_result",
          "data": {
            "text/plain": [
              "count    41188.00000\n",
              "mean        40.02406\n",
              "std         10.42125\n",
              "min         17.00000\n",
              "25%         32.00000\n",
              "50%         38.00000\n",
              "75%         47.00000\n",
              "max         98.00000\n",
              "Name: age, dtype: float64"
            ]
          },
          "metadata": {
            "tags": []
          },
          "execution_count": 13
        }
      ]
    },
    {
      "cell_type": "markdown",
      "metadata": {
        "id": "g6NNzKgA7_0u"
      },
      "source": [
        "## III. Plotting our features for understanding : \n",
        "\n",
        "1. Age "
      ]
    },
    {
      "cell_type": "code",
      "metadata": {
        "colab": {
          "base_uri": "https://localhost:8080/",
          "height": 632
        },
        "id": "PKPV17rjQghv",
        "outputId": "1d42e3a7-d19b-4a45-a9e2-44077398c2e2"
      },
      "source": [
        "plt.figure(figsize=(20,10))\n",
        "sns.countplot(x = 'age', data = df,palette=\"viridis\")\n",
        "plt.xlabel('Age', fontsize=15)\n",
        "plt.ylabel('Count', fontsize=15)\n",
        "plt.title('Age Count Distribution', fontsize=20)\n",
        "sns.despine()"
      ],
      "execution_count": 14,
      "outputs": [
        {
          "output_type": "display_data",
          "data": {
            "image/png": "[encoded data removed]",
            "text/plain": [
              "<Figure size 1440x720 with 1 Axes>"
            ]
          },
          "metadata": {
            "tags": [],
            "needs_background": "light"
          }
        }
      ]
    },
    {
      "cell_type": "code",
      "metadata": {
        "colab": {
          "base_uri": "https://localhost:8080/",
          "height": 295
        },
        "id": "mIcbw1-b7sJx",
        "outputId": "48af6634-dd01-4f1c-faad-be71f56fcb22"
      },
      "source": [
        "# Box plot \n",
        "sns.boxplot(x = df['age'])\n",
        "plt.xlabel('People Age')\n",
        "plt.ylabel('Age')\n",
        "plt.title('Age Distribution')\n",
        "sns.despine()\n",
        "# plt.tick_params(labelsize=20)"
      ],
      "execution_count": 15,
      "outputs": [
        {
          "output_type": "display_data",
          "data": {
            "image/png": "[encoded data removed]",
            "text/plain": [
              "<Figure size 432x288 with 1 Axes>"
            ]
          },
          "metadata": {
            "tags": [],
            "needs_background": "light"
          }
        }
      ]
    },
    {
      "cell_type": "code",
      "metadata": {
        "colab": {
          "base_uri": "https://localhost:8080/",
          "height": 295
        },
        "id": "5RilH3EV8Hj-",
        "outputId": "a36ab204-8c3b-417c-84c5-35c5cc5984f5"
      },
      "source": [
        "# Plotting distribution pot\n",
        "sns.distplot(df['age'])\n",
        "plt.xlabel('Age')\n",
        "plt.ylabel('Occurence')\n",
        "plt.title('Age vs Ocucurence')\n",
        "# plt.tick_params(labelsize=20)\n",
        "sns.despine()"
      ],
      "execution_count": 16,
      "outputs": [
        {
          "output_type": "display_data",
          "data": {
            "image/png": "[encoded data removed]",
            "text/plain": [
              "<Figure size 432x288 with 1 Axes>"
            ]
          },
          "metadata": {
            "tags": [],
            "needs_background": "light"
          }
        }
      ]
    },
    {
      "cell_type": "markdown",
      "metadata": {
        "id": "vgsPtkPOt1cd"
      },
      "source": [
        "##### Getting Quartiles and mean of Age column : "
      ]
    },
    {
      "cell_type": "code",
      "metadata": {
        "colab": {
          "base_uri": "https://localhost:8080/"
        },
        "id": "gMFWFCSJCwx6",
        "outputId": "fe266379-7dad-4ed6-edff-fe7c3be72b36"
      },
      "source": [
        "# Getting Quartiles and mean of Age\n",
        "df['age'].describe()"
      ],
      "execution_count": 17,
      "outputs": [
        {
          "output_type": "execute_result",
          "data": {
            "text/plain": [
              "count    41188.00000\n",
              "mean        40.02406\n",
              "std         10.42125\n",
              "min         17.00000\n",
              "25%         32.00000\n",
              "50%         38.00000\n",
              "75%         47.00000\n",
              "max         98.00000\n",
              "Name: age, dtype: float64"
            ]
          },
          "metadata": {
            "tags": []
          },
          "execution_count": 17
        }
      ]
    },
    {
      "cell_type": "markdown",
      "metadata": {
        "id": "2Rq9Ds8St5V1"
      },
      "source": [
        "##### Getting Outliers dsitribution : "
      ]
    },
    {
      "cell_type": "code",
      "metadata": {
        "colab": {
          "base_uri": "https://localhost:8080/"
        },
        "id": "g0k1j-BfA1CI",
        "outputId": "eb5c7779-55e5-491e-ab51-298dc1f716a8"
      },
      "source": [
        "print(\"[ AGE ] Outliers : \\n\")\n",
        "upper_num_outliers = df['age'].quantile(q = 0.75)+1.5*(df['age'].quantile(q = 0.75)-df['age'].quantile(q = 0.25))\n",
        "print('Ages above: ',upper_num_outliers , 'are outliers')\n",
        "\n",
        "tot_outliers = df[df['age'] > 69.6]['age'].count()\n",
        "print(\"\\nTotal number of Outliers in Age = \",tot_outliers)\n",
        "print(\"\\nOutliers make up to : \",100*round(tot_outliers/len(df['age']),5))"
      ],
      "execution_count": 18,
      "outputs": [
        {
          "output_type": "stream",
          "text": [
            "[ AGE ] Outliers : \n",
            "\n",
            "Ages above:  69.5 are outliers\n",
            "\n",
            "Total number of Outliers in Age =  469\n",
            "\n",
            "Outliers make up to :  1.139\n"
          ],
          "name": "stdout"
        }
      ]
    },
    {
      "cell_type": "markdown",
      "metadata": {
        "id": "ywTeZVmmUTpV"
      },
      "source": [
        "2. JOB :"
      ]
    },
    {
      "cell_type": "code",
      "metadata": {
        "colab": {
          "base_uri": "https://localhost:8080/",
          "height": 523
        },
        "id": "ilrX_FWxSzmj",
        "outputId": "7ecf0f32-176d-4641-f1a9-58282c45df03"
      },
      "source": [
        "# Job Distribution\n",
        "plt.figure(figsize=(15,8))\n",
        "sns.countplot(x = 'job', data = df,palette='viridis')\n",
        "plt.xlabel('Job',fontsize=15)\n",
        "plt.ylabel('Number of Clients',fontsize=15)\n",
        "plt.title('Job Distribution',fontsize=20)\n",
        "plt.tick_params(labelsize=10)\n",
        "sns.despine()"
      ],
      "execution_count": 19,
      "outputs": [
        {
          "output_type": "display_data",
          "data": {
            "image/png": "[encoded data removed]",
            "text/plain": [
              "<Figure size 1080x576 with 1 Axes>"
            ]
          },
          "metadata": {
            "tags": [],
            "needs_background": "light"
          }
        }
      ]
    },
    {
      "cell_type": "markdown",
      "metadata": {
        "id": "VujOZnzaVdEP"
      },
      "source": [
        "3. Education qualification : \n",
        "\n"
      ]
    },
    {
      "cell_type": "code",
      "metadata": {
        "colab": {
          "base_uri": "https://localhost:8080/",
          "height": 525
        },
        "id": "JduXldSyUfO0",
        "outputId": "cb39767e-83d2-4b3e-cd60-3d91c851ef92"
      },
      "source": [
        "# Qualification distribution\n",
        "plt.figure(figsize=(15,8))\n",
        "sns.countplot(x = 'education', data = df,palette='icefire')\n",
        "plt.xlabel('Education', fontsize=15)\n",
        "plt.ylabel('Number of clients', fontsize=15)\n",
        "plt.title('Education Qualification Distribution', fontsize=15)\n",
        "plt.tick_params(labelsize=15)\n",
        "sns.despine()"
      ],
      "execution_count": 20,
      "outputs": [
        {
          "output_type": "display_data",
          "data": {
            "image/png": "[encoded data removed]",
            "text/plain": [
              "<Figure size 1080x576 with 1 Axes>"
            ]
          },
          "metadata": {
            "tags": [],
            "needs_background": "light"
          }
        }
      ]
    },
    {
      "cell_type": "markdown",
      "metadata": {
        "id": "rPFHa-bpWHbf"
      },
      "source": [
        "4. Marital Status :"
      ]
    },
    {
      "cell_type": "code",
      "metadata": {
        "colab": {
          "base_uri": "https://localhost:8080/",
          "height": 525
        },
        "id": "pzJBYqweVq-a",
        "outputId": "6268dca8-d56b-4a89-96a8-20ab3181c75e"
      },
      "source": [
        "# Marital Status distirbution\n",
        "plt.figure(figsize=(10,8))\n",
        "sns.countplot(x = 'marital', data = df,palette='icefire')\n",
        "plt.xlabel('Marital Status', fontsize=15)\n",
        "plt.ylabel('Number of Clients', fontsize=15)\n",
        "plt.title('Marital Status Distribution', fontsize=15)\n",
        "plt.tick_params(labelsize=15)"
      ],
      "execution_count": 21,
      "outputs": [
        {
          "output_type": "display_data",
          "data": {
            "image/png": "[encoded data removed]",
            "text/plain": [
              "<Figure size 720x576 with 1 Axes>"
            ]
          },
          "metadata": {
            "tags": [],
            "needs_background": "light"
          }
        }
      ]
    },
    {
      "cell_type": "markdown",
      "metadata": {
        "id": "OvblSRHeWt1R"
      },
      "source": [
        "5. Credit :"
      ]
    },
    {
      "cell_type": "code",
      "metadata": {
        "colab": {
          "base_uri": "https://localhost:8080/"
        },
        "id": "j83B41zOWW87",
        "outputId": "ea854d47-0ddd-458f-ad35-384d5a1ac264"
      },
      "source": [
        "# Unique value counts\n",
        "df.default.value_counts()"
      ],
      "execution_count": 22,
      "outputs": [
        {
          "output_type": "execute_result",
          "data": {
            "text/plain": [
              "no         32588\n",
              "unknown     8597\n",
              "yes            3\n",
              "Name: default, dtype: int64"
            ]
          },
          "metadata": {
            "tags": []
          },
          "execution_count": 22
        }
      ]
    },
    {
      "cell_type": "markdown",
      "metadata": {
        "id": "d8CyfGISXaTE"
      },
      "source": [
        "### IV. Pre-Processing Data"
      ]
    },
    {
      "cell_type": "code",
      "metadata": {
        "id": "7qUOy8mEWxCy"
      },
      "source": [
        "from sklearn.preprocessing import LabelEncoder\n",
        "X_lbl_encode = LabelEncoder()"
      ],
      "execution_count": 23,
      "outputs": []
    },
    {
      "cell_type": "markdown",
      "metadata": {
        "id": "NotfF8wyuoG2"
      },
      "source": [
        "Encoding the categorical columns : "
      ]
    },
    {
      "cell_type": "code",
      "metadata": {
        "id": "K0tpQWRnXhLU"
      },
      "source": [
        "df['job']      = X_lbl_encode.fit_transform(df['job']) \n",
        "df['loan']     = X_lbl_encode.fit_transform(df['loan']) \n",
        "df['default']  = X_lbl_encode.fit_transform(df['default']) \n",
        "df['marital']  = X_lbl_encode.fit_transform(df['marital']) \n",
        "df['housing']  = X_lbl_encode.fit_transform(df['housing']) \n",
        "df['education']= X_lbl_encode.fit_transform(df['education']) "
      ],
      "execution_count": 24,
      "outputs": []
    },
    {
      "cell_type": "markdown",
      "metadata": {
        "id": "aqrLfdsXutzQ"
      },
      "source": [
        "Categorizing the Age column into Age Groups instead of dealing of multiple age values : "
      ]
    },
    {
      "cell_type": "code",
      "metadata": {
        "id": "DkNKuNq_XjyK"
      },
      "source": [
        "df.loc[df['age'] <= 32, 'age'] = 1\n",
        "df.loc[(df['age'] > 32) & (df['age'] <= 47), 'age'] = 2\n",
        "df.loc[(df['age'] > 47) & (df['age'] <= 70), 'age'] = 3\n",
        "df.loc[(df['age'] > 70) & (df['age'] <= 98), 'age'] = 4"
      ],
      "execution_count": 25,
      "outputs": []
    },
    {
      "cell_type": "code",
      "metadata": {
        "colab": {
          "base_uri": "https://localhost:8080/",
          "height": 206
        },
        "id": "aeh9pnw6YRc4",
        "outputId": "f567f0e5-bfee-4950-dfa6-e9f18ed56499"
      },
      "source": [
        "# Storing into a separate df\n",
        "client_bank = df\n",
        "client_bank.head()"
      ],
      "execution_count": 26,
      "outputs": [
        {
          "output_type": "execute_result",
          "data": {
            "text/html": [
              "<div>\n",
              "<style scoped>\n",
              "    .dataframe tbody tr th:only-of-type {\n",
              "        vertical-align: middle;\n",
              "    }\n",
              "\n",
              "    .dataframe tbody tr th {\n",
              "        vertical-align: top;\n",
              "    }\n",
              "\n",
              "    .dataframe thead th {\n",
              "        text-align: right;\n",
              "    }\n",
              "</style>\n",
              "<table border=\"1\" class=\"dataframe\">\n",
              "  <thead>\n",
              "    <tr style=\"text-align: right;\">\n",
              "      <th></th>\n",
              "      <th>age</th>\n",
              "      <th>job</th>\n",
              "      <th>marital</th>\n",
              "      <th>education</th>\n",
              "      <th>default</th>\n",
              "      <th>housing</th>\n",
              "      <th>loan</th>\n",
              "    </tr>\n",
              "  </thead>\n",
              "  <tbody>\n",
              "    <tr>\n",
              "      <th>0</th>\n",
              "      <td>3</td>\n",
              "      <td>3</td>\n",
              "      <td>1</td>\n",
              "      <td>0</td>\n",
              "      <td>0</td>\n",
              "      <td>0</td>\n",
              "      <td>0</td>\n",
              "    </tr>\n",
              "    <tr>\n",
              "      <th>1</th>\n",
              "      <td>3</td>\n",
              "      <td>7</td>\n",
              "      <td>1</td>\n",
              "      <td>3</td>\n",
              "      <td>1</td>\n",
              "      <td>0</td>\n",
              "      <td>0</td>\n",
              "    </tr>\n",
              "    <tr>\n",
              "      <th>2</th>\n",
              "      <td>2</td>\n",
              "      <td>7</td>\n",
              "      <td>1</td>\n",
              "      <td>3</td>\n",
              "      <td>0</td>\n",
              "      <td>2</td>\n",
              "      <td>0</td>\n",
              "    </tr>\n",
              "    <tr>\n",
              "      <th>3</th>\n",
              "      <td>2</td>\n",
              "      <td>0</td>\n",
              "      <td>1</td>\n",
              "      <td>1</td>\n",
              "      <td>0</td>\n",
              "      <td>0</td>\n",
              "      <td>0</td>\n",
              "    </tr>\n",
              "    <tr>\n",
              "      <th>4</th>\n",
              "      <td>3</td>\n",
              "      <td>7</td>\n",
              "      <td>1</td>\n",
              "      <td>3</td>\n",
              "      <td>0</td>\n",
              "      <td>0</td>\n",
              "      <td>2</td>\n",
              "    </tr>\n",
              "  </tbody>\n",
              "</table>\n",
              "</div>"
            ],
            "text/plain": [
              "   age  job  marital  education  default  housing  loan\n",
              "0    3    3        1          0        0        0     0\n",
              "1    3    7        1          3        1        0     0\n",
              "2    2    7        1          3        0        2     0\n",
              "3    2    0        1          1        0        0     0\n",
              "4    3    7        1          3        0        0     2"
            ]
          },
          "metadata": {
            "tags": []
          },
          "execution_count": 26
        }
      ]
    },
    {
      "cell_type": "markdown",
      "metadata": {
        "id": "pXjWTlRgaoU5"
      },
      "source": [
        "#### I.B Current contact campaign : "
      ]
    },
    {
      "cell_type": "code",
      "metadata": {
        "colab": {
          "base_uri": "https://localhost:8080/",
          "height": 206
        },
        "id": "XxaRvnLLYUC4",
        "outputId": "f196638c-7137-46a5-b7fd-a0a7eb6c2906"
      },
      "source": [
        "columns = [\"contact\",\"month\",\"day_of_week\",\"duration\"]\n",
        "df = raw_df[columns]\n",
        "df.head()"
      ],
      "execution_count": 27,
      "outputs": [
        {
          "output_type": "execute_result",
          "data": {
            "text/html": [
              "<div>\n",
              "<style scoped>\n",
              "    .dataframe tbody tr th:only-of-type {\n",
              "        vertical-align: middle;\n",
              "    }\n",
              "\n",
              "    .dataframe tbody tr th {\n",
              "        vertical-align: top;\n",
              "    }\n",
              "\n",
              "    .dataframe thead th {\n",
              "        text-align: right;\n",
              "    }\n",
              "</style>\n",
              "<table border=\"1\" class=\"dataframe\">\n",
              "  <thead>\n",
              "    <tr style=\"text-align: right;\">\n",
              "      <th></th>\n",
              "      <th>contact</th>\n",
              "      <th>month</th>\n",
              "      <th>day_of_week</th>\n",
              "      <th>duration</th>\n",
              "    </tr>\n",
              "  </thead>\n",
              "  <tbody>\n",
              "    <tr>\n",
              "      <th>0</th>\n",
              "      <td>telephone</td>\n",
              "      <td>may</td>\n",
              "      <td>mon</td>\n",
              "      <td>261</td>\n",
              "    </tr>\n",
              "    <tr>\n",
              "      <th>1</th>\n",
              "      <td>telephone</td>\n",
              "      <td>may</td>\n",
              "      <td>mon</td>\n",
              "      <td>149</td>\n",
              "    </tr>\n",
              "    <tr>\n",
              "      <th>2</th>\n",
              "      <td>telephone</td>\n",
              "      <td>may</td>\n",
              "      <td>mon</td>\n",
              "      <td>226</td>\n",
              "    </tr>\n",
              "    <tr>\n",
              "      <th>3</th>\n",
              "      <td>telephone</td>\n",
              "      <td>may</td>\n",
              "      <td>mon</td>\n",
              "      <td>151</td>\n",
              "    </tr>\n",
              "    <tr>\n",
              "      <th>4</th>\n",
              "      <td>telephone</td>\n",
              "      <td>may</td>\n",
              "      <td>mon</td>\n",
              "      <td>307</td>\n",
              "    </tr>\n",
              "  </tbody>\n",
              "</table>\n",
              "</div>"
            ],
            "text/plain": [
              "     contact month day_of_week  duration\n",
              "0  telephone   may         mon       261\n",
              "1  telephone   may         mon       149\n",
              "2  telephone   may         mon       226\n",
              "3  telephone   may         mon       151\n",
              "4  telephone   may         mon       307"
            ]
          },
          "metadata": {
            "tags": []
          },
          "execution_count": 27
        }
      ]
    },
    {
      "cell_type": "code",
      "metadata": {
        "colab": {
          "base_uri": "https://localhost:8080/"
        },
        "id": "NxRg7on5a4ku",
        "outputId": "ac8066d1-37c4-4b07-ba29-7196564296c6"
      },
      "source": [
        "#checkign null values :\n",
        "df.isna().sum()"
      ],
      "execution_count": 28,
      "outputs": [
        {
          "output_type": "execute_result",
          "data": {
            "text/plain": [
              "contact        0\n",
              "month          0\n",
              "day_of_week    0\n",
              "duration       0\n",
              "dtype: int64"
            ]
          },
          "metadata": {
            "tags": []
          },
          "execution_count": 28
        }
      ]
    },
    {
      "cell_type": "code",
      "metadata": {
        "colab": {
          "base_uri": "https://localhost:8080/"
        },
        "id": "uNyuxulua7te",
        "outputId": "bf4a5816-c905-4fe6-de49-eea19fa266ce"
      },
      "source": [
        "# Seeing all unique aoccurences of the feature columns.\n",
        "for i in [\"contact\",\"month\",\"day_of_week\"]: \n",
        "    print(f'{i} :\\n')\n",
        "    print(df[i].value_counts())\n",
        "    print(\"---\"*10,\"\\n\")"
      ],
      "execution_count": 29,
      "outputs": [
        {
          "output_type": "stream",
          "text": [
            "contact :\n",
            "\n",
            "cellular     26144\n",
            "telephone    15044\n",
            "Name: contact, dtype: int64\n",
            "------------------------------ \n",
            "\n",
            "month :\n",
            "\n",
            "may    13769\n",
            "jul     7174\n",
            "aug     6178\n",
            "jun     5318\n",
            "nov     4101\n",
            "apr     2632\n",
            "oct      718\n",
            "sep      570\n",
            "mar      546\n",
            "dec      182\n",
            "Name: month, dtype: int64\n",
            "------------------------------ \n",
            "\n",
            "day_of_week :\n",
            "\n",
            "thu    8623\n",
            "mon    8514\n",
            "wed    8134\n",
            "tue    8090\n",
            "fri    7827\n",
            "Name: day_of_week, dtype: int64\n",
            "------------------------------ \n",
            "\n"
          ],
          "name": "stdout"
        }
      ]
    },
    {
      "cell_type": "markdown",
      "metadata": {
        "id": "UmQ9gPZhbMR2"
      },
      "source": [
        "#### Visualizing the features : "
      ]
    },
    {
      "cell_type": "code",
      "metadata": {
        "colab": {
          "base_uri": "https://localhost:8080/",
          "height": 369
        },
        "id": "YN2ATYHrbEE2",
        "outputId": "419b4cf7-6a13-42e0-ca4c-2014c4df9b78"
      },
      "source": [
        "# Call Duration plot\n",
        "fig, (ax1, ax2) = plt.subplots(nrows = 1, ncols = 2, figsize = (13, 5))\n",
        "sns.boxplot(x = 'duration', data = df, ax = ax1,color='red')\n",
        "ax1.set_xlabel('Calls', fontsize=10)\n",
        "ax1.set_ylabel('Duration', fontsize=10)\n",
        "ax1.set_title('Calls Distribution', fontsize=10)\n",
        "ax1.tick_params(labelsize=10)\n",
        "\n",
        "sns.distplot(df['duration'], ax = ax2, color='red')\n",
        "sns.despine(ax = ax2)\n",
        "ax2.set_xlabel('Call Duration', fontsize=10)\n",
        "ax2.set_ylabel('Count values', fontsize=10)\n",
        "ax2.set_title('Call Duration vs Ocucurences', fontsize=10)\n",
        "ax2.tick_params(labelsize=10)\n",
        "plt.subplots_adjust(wspace=0.5)\n",
        "plt.tight_layout() "
      ],
      "execution_count": 30,
      "outputs": [
        {
          "output_type": "display_data",
          "data": {
            "image/png": "[encoded data removed]",
            "text/plain": [
              "<Figure size 936x360 with 2 Axes>"
            ]
          },
          "metadata": {
            "tags": [],
            "needs_background": "light"
          }
        }
      ]
    },
    {
      "cell_type": "code",
      "metadata": {
        "colab": {
          "base_uri": "https://localhost:8080/"
        },
        "id": "yL8vFW7CbTF4",
        "outputId": "f32dc658-eccb-4d65-f43e-693318d6f791"
      },
      "source": [
        "# Getting the mean, Quartiles of Call duration column\n",
        "df['duration'].describe()"
      ],
      "execution_count": 31,
      "outputs": [
        {
          "output_type": "execute_result",
          "data": {
            "text/plain": [
              "count    41188.000000\n",
              "mean       258.285010\n",
              "std        259.279249\n",
              "min          0.000000\n",
              "25%        102.000000\n",
              "50%        180.000000\n",
              "75%        319.000000\n",
              "max       4918.000000\n",
              "Name: duration, dtype: float64"
            ]
          },
          "metadata": {
            "tags": []
          },
          "execution_count": 31
        }
      ]
    },
    {
      "cell_type": "code",
      "metadata": {
        "colab": {
          "base_uri": "https://localhost:8080/"
        },
        "id": "4XJS32uNcTWZ",
        "outputId": "05db018d-ce6e-49c1-ac47-df633646d62e"
      },
      "source": [
        "# Upper Outliers : \n",
        "print(\"[ Duration ] Outliers : \\n\")\n",
        "upper_num_outliers = df['duration'].quantile(q = 0.75)+1.5*(df['duration'].quantile(q = 0.75)-df['duration'].quantile(q = 0.25))\n",
        "print('duration above: ',upper_num_outliers , 'are outliers')\n",
        "\n",
        "tot_outliers = df[df['duration'] >644]['duration'].count()\n",
        "print(\"\\nTotal number of Outliers in Age = \",tot_outliers)\n",
        "print(\"\\nOutliers make up to : \",100*round(tot_outliers/len(df['duration']),5),\" %\")"
      ],
      "execution_count": 32,
      "outputs": [
        {
          "output_type": "stream",
          "text": [
            "[ Duration ] Outliers : \n",
            "\n",
            "duration above:  644.5 are outliers\n",
            "\n",
            "Total number of Outliers in Age =  2963\n",
            "\n",
            "Outliers make up to :  7.194000000000001  %\n"
          ],
          "name": "stdout"
        }
      ]
    },
    {
      "cell_type": "markdown",
      "metadata": {
        "id": "qgwAgqQgdFgs"
      },
      "source": [
        "##### As we can see the min value of duration is 0 so these have to be removed. We wil do it while merging all the dataframes. "
      ]
    },
    {
      "cell_type": "markdown",
      "metadata": {
        "id": "IFgqvabYdTbT"
      },
      "source": [
        "#### Label Encoding : \n",
        "Encoding the categorical columns."
      ]
    },
    {
      "cell_type": "code",
      "metadata": {
        "id": "YT59bKc2dLxk"
      },
      "source": [
        "df['month']       = X_lbl_encode.fit_transform(df['month']) \n",
        "df['contact']     = X_lbl_encode.fit_transform(df['contact']) \n",
        "df['day_of_week'] = X_lbl_encode.fit_transform(df['day_of_week'])"
      ],
      "execution_count": 33,
      "outputs": []
    },
    {
      "cell_type": "code",
      "metadata": {
        "id": "7yLEjuzNdmDT"
      },
      "source": [
        "df.loc[df['duration'] <= 102, 'duration'] = 1\n",
        "df.loc[(df['duration'] > 102) & (df['duration'] <= 180)  , 'duration'] = 2\n",
        "df.loc[(df['duration'] > 180) & (df['duration'] <= 319)  , 'duration'] = 3\n",
        "df.loc[(df['duration'] > 319) & (df['duration'] <= 644.5), 'duration'] = 4\n",
        "df.loc[df['duration']  > 644.5, 'duration'] = 5"
      ],
      "execution_count": 34,
      "outputs": []
    },
    {
      "cell_type": "code",
      "metadata": {
        "colab": {
          "base_uri": "https://localhost:8080/",
          "height": 206
        },
        "id": "oT7_lrbCdo2b",
        "outputId": "c840e100-686f-42e3-8e8f-9a9ac920166e"
      },
      "source": [
        "# Separating df\n",
        "related_bank = df\n",
        "related_bank.head()"
      ],
      "execution_count": 35,
      "outputs": [
        {
          "output_type": "execute_result",
          "data": {
            "text/html": [
              "<div>\n",
              "<style scoped>\n",
              "    .dataframe tbody tr th:only-of-type {\n",
              "        vertical-align: middle;\n",
              "    }\n",
              "\n",
              "    .dataframe tbody tr th {\n",
              "        vertical-align: top;\n",
              "    }\n",
              "\n",
              "    .dataframe thead th {\n",
              "        text-align: right;\n",
              "    }\n",
              "</style>\n",
              "<table border=\"1\" class=\"dataframe\">\n",
              "  <thead>\n",
              "    <tr style=\"text-align: right;\">\n",
              "      <th></th>\n",
              "      <th>contact</th>\n",
              "      <th>month</th>\n",
              "      <th>day_of_week</th>\n",
              "      <th>duration</th>\n",
              "    </tr>\n",
              "  </thead>\n",
              "  <tbody>\n",
              "    <tr>\n",
              "      <th>0</th>\n",
              "      <td>1</td>\n",
              "      <td>6</td>\n",
              "      <td>1</td>\n",
              "      <td>3</td>\n",
              "    </tr>\n",
              "    <tr>\n",
              "      <th>1</th>\n",
              "      <td>1</td>\n",
              "      <td>6</td>\n",
              "      <td>1</td>\n",
              "      <td>2</td>\n",
              "    </tr>\n",
              "    <tr>\n",
              "      <th>2</th>\n",
              "      <td>1</td>\n",
              "      <td>6</td>\n",
              "      <td>1</td>\n",
              "      <td>3</td>\n",
              "    </tr>\n",
              "    <tr>\n",
              "      <th>3</th>\n",
              "      <td>1</td>\n",
              "      <td>6</td>\n",
              "      <td>1</td>\n",
              "      <td>2</td>\n",
              "    </tr>\n",
              "    <tr>\n",
              "      <th>4</th>\n",
              "      <td>1</td>\n",
              "      <td>6</td>\n",
              "      <td>1</td>\n",
              "      <td>3</td>\n",
              "    </tr>\n",
              "  </tbody>\n",
              "</table>\n",
              "</div>"
            ],
            "text/plain": [
              "   contact  month  day_of_week  duration\n",
              "0        1      6            1         3\n",
              "1        1      6            1         2\n",
              "2        1      6            1         3\n",
              "3        1      6            1         2\n",
              "4        1      6            1         3"
            ]
          },
          "metadata": {
            "tags": []
          },
          "execution_count": 35
        }
      ]
    },
    {
      "cell_type": "markdown",
      "metadata": {
        "id": "umRjmE9od363"
      },
      "source": [
        "#### I.C Social, Economic and Other Statuses : "
      ]
    },
    {
      "cell_type": "code",
      "metadata": {
        "colab": {
          "base_uri": "https://localhost:8080/",
          "height": 206
        },
        "id": "Fk2FfCKdd2bG",
        "outputId": "86c621a8-04f7-4cb2-e478-6a1e833cad79"
      },
      "source": [
        "socio_eco = raw_df.loc[: , ['emp.var.rate', 'cons.price.idx', 'cons.conf.idx', 'euribor3m', 'nr.employed']]\n",
        "socio_eco.head()"
      ],
      "execution_count": 36,
      "outputs": [
        {
          "output_type": "execute_result",
          "data": {
            "text/html": [
              "<div>\n",
              "<style scoped>\n",
              "    .dataframe tbody tr th:only-of-type {\n",
              "        vertical-align: middle;\n",
              "    }\n",
              "\n",
              "    .dataframe tbody tr th {\n",
              "        vertical-align: top;\n",
              "    }\n",
              "\n",
              "    .dataframe thead th {\n",
              "        text-align: right;\n",
              "    }\n",
              "</style>\n",
              "<table border=\"1\" class=\"dataframe\">\n",
              "  <thead>\n",
              "    <tr style=\"text-align: right;\">\n",
              "      <th></th>\n",
              "      <th>emp.var.rate</th>\n",
              "      <th>cons.price.idx</th>\n",
              "      <th>cons.conf.idx</th>\n",
              "      <th>euribor3m</th>\n",
              "      <th>nr.employed</th>\n",
              "    </tr>\n",
              "  </thead>\n",
              "  <tbody>\n",
              "    <tr>\n",
              "      <th>0</th>\n",
              "      <td>1.1</td>\n",
              "      <td>93.994</td>\n",
              "      <td>-36.4</td>\n",
              "      <td>4.857</td>\n",
              "      <td>5191.0</td>\n",
              "    </tr>\n",
              "    <tr>\n",
              "      <th>1</th>\n",
              "      <td>1.1</td>\n",
              "      <td>93.994</td>\n",
              "      <td>-36.4</td>\n",
              "      <td>4.857</td>\n",
              "      <td>5191.0</td>\n",
              "    </tr>\n",
              "    <tr>\n",
              "      <th>2</th>\n",
              "      <td>1.1</td>\n",
              "      <td>93.994</td>\n",
              "      <td>-36.4</td>\n",
              "      <td>4.857</td>\n",
              "      <td>5191.0</td>\n",
              "    </tr>\n",
              "    <tr>\n",
              "      <th>3</th>\n",
              "      <td>1.1</td>\n",
              "      <td>93.994</td>\n",
              "      <td>-36.4</td>\n",
              "      <td>4.857</td>\n",
              "      <td>5191.0</td>\n",
              "    </tr>\n",
              "    <tr>\n",
              "      <th>4</th>\n",
              "      <td>1.1</td>\n",
              "      <td>93.994</td>\n",
              "      <td>-36.4</td>\n",
              "      <td>4.857</td>\n",
              "      <td>5191.0</td>\n",
              "    </tr>\n",
              "  </tbody>\n",
              "</table>\n",
              "</div>"
            ],
            "text/plain": [
              "   emp.var.rate  cons.price.idx  cons.conf.idx  euribor3m  nr.employed\n",
              "0           1.1          93.994          -36.4      4.857       5191.0\n",
              "1           1.1          93.994          -36.4      4.857       5191.0\n",
              "2           1.1          93.994          -36.4      4.857       5191.0\n",
              "3           1.1          93.994          -36.4      4.857       5191.0\n",
              "4           1.1          93.994          -36.4      4.857       5191.0"
            ]
          },
          "metadata": {
            "tags": []
          },
          "execution_count": 36
        }
      ]
    },
    {
      "cell_type": "code",
      "metadata": {
        "colab": {
          "base_uri": "https://localhost:8080/",
          "height": 206
        },
        "id": "0f0BLWM9eF3V",
        "outputId": "8fcae4bd-ff4f-4aaa-95ca-74f6269f15ee"
      },
      "source": [
        "others = raw_df.loc[: , ['campaign', 'pdays','previous', 'poutcome']]\n",
        "others.head()"
      ],
      "execution_count": 37,
      "outputs": [
        {
          "output_type": "execute_result",
          "data": {
            "text/html": [
              "<div>\n",
              "<style scoped>\n",
              "    .dataframe tbody tr th:only-of-type {\n",
              "        vertical-align: middle;\n",
              "    }\n",
              "\n",
              "    .dataframe tbody tr th {\n",
              "        vertical-align: top;\n",
              "    }\n",
              "\n",
              "    .dataframe thead th {\n",
              "        text-align: right;\n",
              "    }\n",
              "</style>\n",
              "<table border=\"1\" class=\"dataframe\">\n",
              "  <thead>\n",
              "    <tr style=\"text-align: right;\">\n",
              "      <th></th>\n",
              "      <th>campaign</th>\n",
              "      <th>pdays</th>\n",
              "      <th>previous</th>\n",
              "      <th>poutcome</th>\n",
              "    </tr>\n",
              "  </thead>\n",
              "  <tbody>\n",
              "    <tr>\n",
              "      <th>0</th>\n",
              "      <td>1</td>\n",
              "      <td>999</td>\n",
              "      <td>0</td>\n",
              "      <td>nonexistent</td>\n",
              "    </tr>\n",
              "    <tr>\n",
              "      <th>1</th>\n",
              "      <td>1</td>\n",
              "      <td>999</td>\n",
              "      <td>0</td>\n",
              "      <td>nonexistent</td>\n",
              "    </tr>\n",
              "    <tr>\n",
              "      <th>2</th>\n",
              "      <td>1</td>\n",
              "      <td>999</td>\n",
              "      <td>0</td>\n",
              "      <td>nonexistent</td>\n",
              "    </tr>\n",
              "    <tr>\n",
              "      <th>3</th>\n",
              "      <td>1</td>\n",
              "      <td>999</td>\n",
              "      <td>0</td>\n",
              "      <td>nonexistent</td>\n",
              "    </tr>\n",
              "    <tr>\n",
              "      <th>4</th>\n",
              "      <td>1</td>\n",
              "      <td>999</td>\n",
              "      <td>0</td>\n",
              "      <td>nonexistent</td>\n",
              "    </tr>\n",
              "  </tbody>\n",
              "</table>\n",
              "</div>"
            ],
            "text/plain": [
              "   campaign  pdays  previous     poutcome\n",
              "0         1    999         0  nonexistent\n",
              "1         1    999         0  nonexistent\n",
              "2         1    999         0  nonexistent\n",
              "3         1    999         0  nonexistent\n",
              "4         1    999         0  nonexistent"
            ]
          },
          "metadata": {
            "tags": []
          },
          "execution_count": 37
        }
      ]
    },
    {
      "cell_type": "code",
      "metadata": {
        "colab": {
          "base_uri": "https://localhost:8080/",
          "height": 206
        },
        "id": "mF6p9clqgSCd",
        "outputId": "5459c70b-3c70-4aed-a817-219aa8458625"
      },
      "source": [
        "# Encoding of the categorical column\n",
        "others['poutcome'].replace(['nonexistent', 'failure', 'success'], [1,2,3], inplace  = True)\n",
        "others.head()"
      ],
      "execution_count": 38,
      "outputs": [
        {
          "output_type": "execute_result",
          "data": {
            "text/html": [
              "<div>\n",
              "<style scoped>\n",
              "    .dataframe tbody tr th:only-of-type {\n",
              "        vertical-align: middle;\n",
              "    }\n",
              "\n",
              "    .dataframe tbody tr th {\n",
              "        vertical-align: top;\n",
              "    }\n",
              "\n",
              "    .dataframe thead th {\n",
              "        text-align: right;\n",
              "    }\n",
              "</style>\n",
              "<table border=\"1\" class=\"dataframe\">\n",
              "  <thead>\n",
              "    <tr style=\"text-align: right;\">\n",
              "      <th></th>\n",
              "      <th>campaign</th>\n",
              "      <th>pdays</th>\n",
              "      <th>previous</th>\n",
              "      <th>poutcome</th>\n",
              "    </tr>\n",
              "  </thead>\n",
              "  <tbody>\n",
              "    <tr>\n",
              "      <th>0</th>\n",
              "      <td>1</td>\n",
              "      <td>999</td>\n",
              "      <td>0</td>\n",
              "      <td>1</td>\n",
              "    </tr>\n",
              "    <tr>\n",
              "      <th>1</th>\n",
              "      <td>1</td>\n",
              "      <td>999</td>\n",
              "      <td>0</td>\n",
              "      <td>1</td>\n",
              "    </tr>\n",
              "    <tr>\n",
              "      <th>2</th>\n",
              "      <td>1</td>\n",
              "      <td>999</td>\n",
              "      <td>0</td>\n",
              "      <td>1</td>\n",
              "    </tr>\n",
              "    <tr>\n",
              "      <th>3</th>\n",
              "      <td>1</td>\n",
              "      <td>999</td>\n",
              "      <td>0</td>\n",
              "      <td>1</td>\n",
              "    </tr>\n",
              "    <tr>\n",
              "      <th>4</th>\n",
              "      <td>1</td>\n",
              "      <td>999</td>\n",
              "      <td>0</td>\n",
              "      <td>1</td>\n",
              "    </tr>\n",
              "  </tbody>\n",
              "</table>\n",
              "</div>"
            ],
            "text/plain": [
              "   campaign  pdays  previous  poutcome\n",
              "0         1    999         0         1\n",
              "1         1    999         0         1\n",
              "2         1    999         0         1\n",
              "3         1    999         0         1\n",
              "4         1    999         0         1"
            ]
          },
          "metadata": {
            "tags": []
          },
          "execution_count": 38
        }
      ]
    },
    {
      "cell_type": "markdown",
      "metadata": {
        "id": "78833wlAeVPu"
      },
      "source": [
        "#### II. Combining into a single Dataset : "
      ]
    },
    {
      "cell_type": "code",
      "metadata": {
        "colab": {
          "base_uri": "https://localhost:8080/",
          "height": 245
        },
        "id": "j2VuBAPqeRPA",
        "outputId": "c08a39cc-a12d-4be3-af97-0ead33495711"
      },
      "source": [
        "dataset = pd.concat([client_bank,related_bank,socio_eco,others],axis=1)\n",
        "print(\"dataset Shape : \",dataset.shape)\n",
        "dataset.head()"
      ],
      "execution_count": 39,
      "outputs": [
        {
          "output_type": "stream",
          "text": [
            "dataset Shape :  (41188, 20)\n"
          ],
          "name": "stdout"
        },
        {
          "output_type": "execute_result",
          "data": {
            "text/html": [
              "<div>\n",
              "<style scoped>\n",
              "    .dataframe tbody tr th:only-of-type {\n",
              "        vertical-align: middle;\n",
              "    }\n",
              "\n",
              "    .dataframe tbody tr th {\n",
              "        vertical-align: top;\n",
              "    }\n",
              "\n",
              "    .dataframe thead th {\n",
              "        text-align: right;\n",
              "    }\n",
              "</style>\n",
              "<table border=\"1\" class=\"dataframe\">\n",
              "  <thead>\n",
              "    <tr style=\"text-align: right;\">\n",
              "      <th></th>\n",
              "      <th>age</th>\n",
              "      <th>job</th>\n",
              "      <th>marital</th>\n",
              "      <th>education</th>\n",
              "      <th>default</th>\n",
              "      <th>housing</th>\n",
              "      <th>loan</th>\n",
              "      <th>contact</th>\n",
              "      <th>month</th>\n",
              "      <th>day_of_week</th>\n",
              "      <th>duration</th>\n",
              "      <th>emp.var.rate</th>\n",
              "      <th>cons.price.idx</th>\n",
              "      <th>cons.conf.idx</th>\n",
              "      <th>euribor3m</th>\n",
              "      <th>nr.employed</th>\n",
              "      <th>campaign</th>\n",
              "      <th>pdays</th>\n",
              "      <th>previous</th>\n",
              "      <th>poutcome</th>\n",
              "    </tr>\n",
              "  </thead>\n",
              "  <tbody>\n",
              "    <tr>\n",
              "      <th>0</th>\n",
              "      <td>3</td>\n",
              "      <td>3</td>\n",
              "      <td>1</td>\n",
              "      <td>0</td>\n",
              "      <td>0</td>\n",
              "      <td>0</td>\n",
              "      <td>0</td>\n",
              "      <td>1</td>\n",
              "      <td>6</td>\n",
              "      <td>1</td>\n",
              "      <td>3</td>\n",
              "      <td>1.1</td>\n",
              "      <td>93.994</td>\n",
              "      <td>-36.4</td>\n",
              "      <td>4.857</td>\n",
              "      <td>5191.0</td>\n",
              "      <td>1</td>\n",
              "      <td>999</td>\n",
              "      <td>0</td>\n",
              "      <td>1</td>\n",
              "    </tr>\n",
              "    <tr>\n",
              "      <th>1</th>\n",
              "      <td>3</td>\n",
              "      <td>7</td>\n",
              "      <td>1</td>\n",
              "      <td>3</td>\n",
              "      <td>1</td>\n",
              "      <td>0</td>\n",
              "      <td>0</td>\n",
              "      <td>1</td>\n",
              "      <td>6</td>\n",
              "      <td>1</td>\n",
              "      <td>2</td>\n",
              "      <td>1.1</td>\n",
              "      <td>93.994</td>\n",
              "      <td>-36.4</td>\n",
              "      <td>4.857</td>\n",
              "      <td>5191.0</td>\n",
              "      <td>1</td>\n",
              "      <td>999</td>\n",
              "      <td>0</td>\n",
              "      <td>1</td>\n",
              "    </tr>\n",
              "    <tr>\n",
              "      <th>2</th>\n",
              "      <td>2</td>\n",
              "      <td>7</td>\n",
              "      <td>1</td>\n",
              "      <td>3</td>\n",
              "      <td>0</td>\n",
              "      <td>2</td>\n",
              "      <td>0</td>\n",
              "      <td>1</td>\n",
              "      <td>6</td>\n",
              "      <td>1</td>\n",
              "      <td>3</td>\n",
              "      <td>1.1</td>\n",
              "      <td>93.994</td>\n",
              "      <td>-36.4</td>\n",
              "      <td>4.857</td>\n",
              "      <td>5191.0</td>\n",
              "      <td>1</td>\n",
              "      <td>999</td>\n",
              "      <td>0</td>\n",
              "      <td>1</td>\n",
              "    </tr>\n",
              "    <tr>\n",
              "      <th>3</th>\n",
              "      <td>2</td>\n",
              "      <td>0</td>\n",
              "      <td>1</td>\n",
              "      <td>1</td>\n",
              "      <td>0</td>\n",
              "      <td>0</td>\n",
              "      <td>0</td>\n",
              "      <td>1</td>\n",
              "      <td>6</td>\n",
              "      <td>1</td>\n",
              "      <td>2</td>\n",
              "      <td>1.1</td>\n",
              "      <td>93.994</td>\n",
              "      <td>-36.4</td>\n",
              "      <td>4.857</td>\n",
              "      <td>5191.0</td>\n",
              "      <td>1</td>\n",
              "      <td>999</td>\n",
              "      <td>0</td>\n",
              "      <td>1</td>\n",
              "    </tr>\n",
              "    <tr>\n",
              "      <th>4</th>\n",
              "      <td>3</td>\n",
              "      <td>7</td>\n",
              "      <td>1</td>\n",
              "      <td>3</td>\n",
              "      <td>0</td>\n",
              "      <td>0</td>\n",
              "      <td>2</td>\n",
              "      <td>1</td>\n",
              "      <td>6</td>\n",
              "      <td>1</td>\n",
              "      <td>3</td>\n",
              "      <td>1.1</td>\n",
              "      <td>93.994</td>\n",
              "      <td>-36.4</td>\n",
              "      <td>4.857</td>\n",
              "      <td>5191.0</td>\n",
              "      <td>1</td>\n",
              "      <td>999</td>\n",
              "      <td>0</td>\n",
              "      <td>1</td>\n",
              "    </tr>\n",
              "  </tbody>\n",
              "</table>\n",
              "</div>"
            ],
            "text/plain": [
              "   age  job  marital  education  ...  campaign  pdays  previous  poutcome\n",
              "0    3    3        1          0  ...         1    999         0         1\n",
              "1    3    7        1          3  ...         1    999         0         1\n",
              "2    2    7        1          3  ...         1    999         0         1\n",
              "3    2    0        1          1  ...         1    999         0         1\n",
              "4    3    7        1          3  ...         1    999         0         1\n",
              "\n",
              "[5 rows x 20 columns]"
            ]
          },
          "metadata": {
            "tags": []
          },
          "execution_count": 39
        }
      ]
    },
    {
      "cell_type": "markdown",
      "metadata": {
        "id": "HaDoBGXpSJvQ"
      },
      "source": [
        "Correlation matrix :"
      ]
    },
    {
      "cell_type": "code",
      "metadata": {
        "colab": {
          "base_uri": "https://localhost:8080/",
          "height": 348
        },
        "id": "EjwMCRXKSJvQ",
        "outputId": "0cd206d9-989a-4ed4-e5c1-e981634eb4c1"
      },
      "source": [
        "corr = dataset.corr()\n",
        "sns.heatmap(corr)"
      ],
      "execution_count": 40,
      "outputs": [
        {
          "output_type": "execute_result",
          "data": {
            "text/plain": [
              "<matplotlib.axes._subplots.AxesSubplot at 0x7f0dc3fcf438>"
            ]
          },
          "metadata": {
            "tags": []
          },
          "execution_count": 40
        },
        {
          "output_type": "display_data",
          "data": {
            "image/png": "[encoded data removed]",
            "text/plain": [
              "<Figure size 432x288 with 2 Axes>"
            ]
          },
          "metadata": {
            "tags": [],
            "needs_background": "light"
          }
        }
      ]
    },
    {
      "cell_type": "markdown",
      "metadata": {
        "id": "n2g9ToPDSJvR"
      },
      "source": [
        "Distribution of dataset : "
      ]
    },
    {
      "cell_type": "code",
      "metadata": {
        "colab": {
          "base_uri": "https://localhost:8080/"
        },
        "id": "xa6VH_N0SJvR",
        "outputId": "51f23219-ea95-4525-9cee-8aa54b442b84"
      },
      "source": [
        "vals = list(y_df['y_yes'].value_counts())\n",
        "print(\"Number of [ No  - 0 ] class : \",round((vals[0]/sum(vals))*100,2),\" % . Samples = \",vals[0])\n",
        "print(\"Number of [ Yes - 1 ] class : \",round((vals[1]/sum(vals))*100,2),\" % . Samples =  \",vals[1])\n",
        "print(\"\\nTotal number of samples = \",sum(vals))"
      ],
      "execution_count": 41,
      "outputs": [
        {
          "output_type": "stream",
          "text": [
            "Number of [ No  - 0 ] class :  88.73  % . Samples =  36548\n",
            "Number of [ Yes - 1 ] class :  11.27  % . Samples =   4640\n",
            "\n",
            "Total number of samples =  41188\n"
          ],
          "name": "stdout"
        }
      ]
    },
    {
      "cell_type": "markdown",
      "metadata": {
        "id": "MtIxtc9ASJvS"
      },
      "source": [
        "#### Over Sampling minority Class :"
      ]
    },
    {
      "cell_type": "code",
      "metadata": {
        "scrolled": true,
        "colab": {
          "base_uri": "https://localhost:8080/"
        },
        "id": "VrO5JXOaSJvS",
        "outputId": "0e57d407-410f-445f-a422-e80eaca4b42e"
      },
      "source": [
        "from imblearn.over_sampling import SMOTE\n",
        "\n",
        "smote = SMOTE()\n",
        "x_smote, y_smote = smote.fit_resample(dataset, y_df)\n",
        "\n",
        "print('Original dataset shape', (dataset.shape))\n",
        "print('Resample dataset shape', (x_smote.shape))"
      ],
      "execution_count": 42,
      "outputs": [
        {
          "output_type": "stream",
          "text": [
            "Original dataset shape (41188, 20)\n",
            "Resample dataset shape (73096, 20)\n"
          ],
          "name": "stdout"
        }
      ]
    },
    {
      "cell_type": "code",
      "metadata": {
        "colab": {
          "base_uri": "https://localhost:8080/"
        },
        "id": "nebB3BzaSJvS",
        "outputId": "c18c85a8-2644-4af5-b224-3eb03f406deb"
      },
      "source": [
        "dataset = x_smote\n",
        "y_df = y_smote\n",
        "dataset.shape,y_df.shape"
      ],
      "execution_count": 43,
      "outputs": [
        {
          "output_type": "execute_result",
          "data": {
            "text/plain": [
              "((73096, 20), (73096,))"
            ]
          },
          "metadata": {
            "tags": []
          },
          "execution_count": 43
        }
      ]
    },
    {
      "cell_type": "markdown",
      "metadata": {
        "id": "YDRP26E_fUms"
      },
      "source": [
        "#### III. Train-Test-Split of Pre-Processed dataset : "
      ]
    },
    {
      "cell_type": "code",
      "metadata": {
        "id": "e_cBCPzFfZgd"
      },
      "source": [
        "from sklearn.model_selection import train_test_split\n",
        "\n",
        "X_train, X_test, y_train, y_test = train_test_split(dataset, y_df, test_size = 0.12, random_state = 52)"
      ],
      "execution_count": 44,
      "outputs": []
    },
    {
      "cell_type": "code",
      "metadata": {
        "colab": {
          "base_uri": "https://localhost:8080/"
        },
        "id": "JZUclgxXflPG",
        "outputId": "165005ac-15ba-4394-f81d-de4957ebcaaf"
      },
      "source": [
        "print(\"X_train shape : \",X_train.shape)\n",
        "print(\"y_train shape : \",y_train.shape)\n",
        "print(\"X_test shape  : \",X_test.shape)\n",
        "print(\"y_test shape  : \",y_test.shape)"
      ],
      "execution_count": 45,
      "outputs": [
        {
          "output_type": "stream",
          "text": [
            "X_train shape :  (64324, 20)\n",
            "y_train shape :  (64324,)\n",
            "X_test shape  :  (8772, 20)\n",
            "y_test shape  :  (8772,)\n"
          ],
          "name": "stdout"
        }
      ]
    },
    {
      "cell_type": "markdown",
      "metadata": {
        "id": "ZlKv8vauf7hq"
      },
      "source": [
        "##### Scaling X_train : \n"
      ]
    },
    {
      "cell_type": "code",
      "metadata": {
        "id": "0x7SpOeUgBHN"
      },
      "source": [
        "from sklearn.preprocessing import StandardScaler\n",
        "\n",
        "std_scl = StandardScaler()\n",
        "X_train = std_scl.fit_transform(X_train)\n",
        "X_test  = std_scl.transform(X_test) "
      ],
      "execution_count": 46,
      "outputs": []
    },
    {
      "cell_type": "markdown",
      "metadata": {
        "id": "9Umnzle2fLLd"
      },
      "source": [
        "#### IV. Model Training :\n",
        "\n",
        "Importing neccessary modules : "
      ]
    },
    {
      "cell_type": "code",
      "metadata": {
        "id": "rjuBtKglgqv0"
      },
      "source": [
        "from sklearn.linear_model import LogisticRegression\n",
        "from sklearn.model_selection import KFold\n",
        "from sklearn.model_selection import cross_val_score\n",
        "from sklearn.metrics import confusion_matrix, accuracy_score, f1_score,roc_curve,roc_auc_score\n",
        "from sklearn import model_selection\n",
        "from sklearn.neighbors import KNeighborsClassifier\n",
        "from sklearn.tree import DecisionTreeClassifier\n",
        "from sklearn.svm import SVC"
      ],
      "execution_count": 47,
      "outputs": []
    },
    {
      "cell_type": "markdown",
      "metadata": {
        "id": "DGsN7j1Ggxo2"
      },
      "source": [
        "##### A. Logistic Regression : "
      ]
    },
    {
      "cell_type": "code",
      "metadata": {
        "id": "rZLVT-aAgqfs"
      },
      "source": [
        "LR_model = LogisticRegression() \n",
        "LR_model.fit(X_train,y_train,)\n",
        "LR_pred = LR_model.predict(X_test)"
      ],
      "execution_count": 48,
      "outputs": []
    },
    {
      "cell_type": "code",
      "metadata": {
        "colab": {
          "base_uri": "https://localhost:8080/",
          "height": 360
        },
        "id": "lfc2imSWfRX8",
        "outputId": "fa1c9072-484a-4ef1-ce81-ebafca6211c4"
      },
      "source": [
        "LR_acc = (round(accuracy_score(y_test, LR_pred),2)*100)\n",
        "print(\"Accuracy = \", LR_acc)\n",
        "\n",
        "print(\"Confusion Matrix :\")\n",
        "print(confusion_matrix(y_test, LR_pred))\n",
        "sns.heatmap(confusion_matrix(y_test, LR_pred),annot=True,cmap=\"BuGn\")"
      ],
      "execution_count": 49,
      "outputs": [
        {
          "output_type": "stream",
          "text": [
            "Accuracy =  87.0\n",
            "Confusion Matrix :\n",
            "[[3741  649]\n",
            " [ 515 3867]]\n"
          ],
          "name": "stdout"
        },
        {
          "output_type": "execute_result",
          "data": {
            "text/plain": [
              "<matplotlib.axes._subplots.AxesSubplot at 0x7f0dc066f710>"
            ]
          },
          "metadata": {
            "tags": []
          },
          "execution_count": 49
        },
        {
          "output_type": "display_data",
          "data": {
            "image/png": "[encoded data removed]",
            "text/plain": [
              "<Figure size 432x288 with 2 Axes>"
            ]
          },
          "metadata": {
            "tags": [],
            "needs_background": "light"
          }
        }
      ]
    },
    {
      "cell_type": "code",
      "metadata": {
        "colab": {
          "base_uri": "https://localhost:8080/"
        },
        "id": "2hlpRg37hkuO",
        "outputId": "56d7fbe2-292b-4ec0-8fb5-fc2eca0fb8e5"
      },
      "source": [
        "LR_f1 = f1_score(y_test,LR_pred)\n",
        "print(\"F1 - score : \",LR_f1)\n",
        "\n",
        "k_fold = KFold(n_splits=10, shuffle=True, random_state=10)\n",
        "LR_cv = cross_val_score(LR_model, X_train, y_train, cv=k_fold, n_jobs=1, scoring = 'accuracy').mean()\n",
        "print(\"CV Accuracy = \", LR_cv*100)"
      ],
      "execution_count": 50,
      "outputs": [
        {
          "output_type": "stream",
          "text": [
            "F1 - score :  0.8691840863115308\n",
            "CV Accuracy =  86.94110692650537\n"
          ],
          "name": "stdout"
        }
      ]
    },
    {
      "cell_type": "code",
      "metadata": {
        "colab": {
          "base_uri": "https://localhost:8080/",
          "height": 314
        },
        "id": "dGX_uEoSSJvW",
        "outputId": "ef9b54d1-61bb-4ee3-f3be-72d6f55c89c6"
      },
      "source": [
        "fpr,tpr,thresholds = roc_curve(y_test,LR_model.predict_proba(X_test)[:,1])\n",
        "roc_auc_LR = roc_auc_score(y_test,LR_pred)\n",
        "print(\"Area = \",roc_auc_LR)\n",
        "plt.plot(fpr,tpr,label='Logistic Regression')\n",
        "plt.plot([0,1],[0,1],'r--')\n",
        "plt.xlim([0.0,1.0])\n",
        "plt.ylim([0.0,1.05])\n",
        "plt.xlabel(\"False positive Rate\")\n",
        "plt.ylabel(\"True positive Rate\")\n",
        "plt.title(\"ROC - curve\")\n",
        "sns.despine()"
      ],
      "execution_count": 51,
      "outputs": [
        {
          "output_type": "stream",
          "text": [
            "Area =  0.8673188826936453\n"
          ],
          "name": "stdout"
        },
        {
          "output_type": "display_data",
          "data": {
            "image/png": "[encoded data removed]",
            "text/plain": [
              "<Figure size 432x288 with 1 Axes>"
            ]
          },
          "metadata": {
            "tags": [],
            "needs_background": "light"
          }
        }
      ]
    },
    {
      "cell_type": "markdown",
      "metadata": {
        "id": "Eox88wjdi-rc"
      },
      "source": [
        "##### B. KNN :"
      ]
    },
    {
      "cell_type": "code",
      "metadata": {
        "colab": {
          "base_uri": "https://localhost:8080/",
          "height": 431
        },
        "id": "eghK7cfPivrm",
        "outputId": "27dfc863-c99f-4584-b781-6425ada847c7"
      },
      "source": [
        "# Create list of number of neighbors\n",
        "neighbors = np.arange(1,8,2)\n",
        "cv_scores = []\n",
        "print(\"K-value    Accuraacy       std\")\n",
        "#Performing 10-fold CV on training set for all odd k's\n",
        "for k in neighbors:\n",
        "    k_value = k\n",
        "    KNN_Model = KNeighborsClassifier(n_neighbors = k_value, weights='uniform', p=2, metric='euclidean')\n",
        "    kfold = model_selection.KFold(n_splits=10, random_state=101)\n",
        "    scores = model_selection.cross_val_score(KNN_Model, X_train, y_train, cv=kfold, scoring='accuracy')\n",
        "    avg_score = scores.mean()*100\n",
        "    cv_scores.append(avg_score)\n",
        "    print(f\"k={k_value}          {round(avg_score,2)}       [ +/- {round(scores.std()*100,2)} ]\")\n",
        "\n",
        "best_k = neighbors[cv_scores.index(max(cv_scores))]\n",
        "print(f\"\\n\\nBest Accuracy at k={best_k}, Accuracy = {round(cv_scores[best_k],2)} %\")\n",
        "\n",
        "plt.plot(neighbors, cv_scores)\n",
        "plt.xlabel('Number of K Neighbors')\n",
        "plt.ylabel('Training Accuracy')\n",
        "plt.show()"
      ],
      "execution_count": 71,
      "outputs": [
        {
          "output_type": "stream",
          "text": [
            "K-value    Accuraacy       std\n",
            "k=1          94.94       [ +/- 0.26 ]\n",
            "k=3          93.24       [ +/- 0.22 ]\n",
            "k=5          92.02       [ +/- 0.25 ]\n",
            "k=7          91.25       [ +/- 0.2 ]\n",
            "\n",
            "\n",
            "Best Accuracy at k=1, Accuracy = 93.24 %\n"
          ],
          "name": "stdout"
        },
        {
          "output_type": "display_data",
          "data": {
            "image/png": "[encoded data removed]",
            "text/plain": [
              "<Figure size 432x288 with 1 Axes>"
            ]
          },
          "metadata": {
            "tags": [],
            "needs_background": "light"
          }
        }
      ]
    },
    {
      "cell_type": "code",
      "metadata": {
        "colab": {
          "base_uri": "https://localhost:8080/",
          "height": 341
        },
        "id": "u22TeY1Se1qh",
        "outputId": "c53e9bda-cfe5-4dc9-9cb1-c5000fcb247c"
      },
      "source": [
        "KNN_model = KNeighborsClassifier(n_neighbors=best_k)\n",
        "KNN_model.fit(X_train, y_train)\n",
        "KNN_pred = KNN_model.predict(X_test)\n",
        "\n",
        "KNN_acc = (round(accuracy_score(y_test, KNN_pred),2)*100)\n",
        "print(\"Accuracy = \", KNN_acc)\n",
        "\n",
        "print(\"Confusion Matrix : \")\n",
        "print(confusion_matrix(y_test, KNN_pred))\n",
        "sns.heatmap(confusion_matrix(y_test, KNN_pred),annot=True,cmap=\"BuGn\")\n",
        "\n",
        "KNNCV = (cross_val_score(KNN_model, X_train, y_train, cv=k_fold, n_jobs=1, scoring = 'accuracy').mean())"
      ],
      "execution_count": 72,
      "outputs": [
        {
          "output_type": "stream",
          "text": [
            "Accuracy =  95.0\n",
            "Confusion Matrix : \n",
            "[[4011  379]\n",
            " [  45 4337]]\n"
          ],
          "name": "stdout"
        },
        {
          "output_type": "display_data",
          "data": {
            "image/png": "[encoded data removed]",
            "text/plain": [
              "<Figure size 432x288 with 2 Axes>"
            ]
          },
          "metadata": {
            "tags": [],
            "needs_background": "light"
          }
        }
      ]
    },
    {
      "cell_type": "code",
      "metadata": {
        "colab": {
          "base_uri": "https://localhost:8080/"
        },
        "id": "iYIeaptKgij8",
        "outputId": "45f2fc76-ae5a-42df-f863-6032c51a26d7"
      },
      "source": [
        "KNN_f1 = f1_score(y_test,KNN_pred)\n",
        "print(\"F1 - score : \",KNN_f1)\n",
        "\n",
        "k_fold = KFold(n_splits=10, shuffle=True, random_state=0)\n",
        "KNN_cv = cross_val_score(KNN_model, X_train, y_train, cv=k_fold, n_jobs=1, scoring = 'accuracy').mean()\n",
        "print(\"CV Accuracy = \", KNN_cv*100) "
      ],
      "execution_count": 73,
      "outputs": [
        {
          "output_type": "stream",
          "text": [
            "F1 - score :  0.9533963508463399\n",
            "CV Accuracy =  94.98164006641747\n"
          ],
          "name": "stdout"
        }
      ]
    },
    {
      "cell_type": "code",
      "metadata": {
        "colab": {
          "base_uri": "https://localhost:8080/",
          "height": 314
        },
        "id": "Hb5ab0SVSJvY",
        "outputId": "9329149d-56d6-4007-f34e-499d3c0f334a"
      },
      "source": [
        "fpr,tpr,thresholds = roc_curve(y_test,KNN_model.predict_proba(X_test)[:,1])\n",
        "roc_auc_KNN = roc_auc_score(y_test,KNN_model.predict_proba(X_test)[:,1])\n",
        "print(\"Area = \",roc_auc_KNN)\n",
        "plt.plot(fpr,tpr,label='KNN')\n",
        "plt.plot([0,1],[0,1],'r--')\n",
        "plt.xlim([0.0,1.0])\n",
        "plt.ylim([0.0,1.05])\n",
        "plt.xlabel(\"False positive Rate\")\n",
        "plt.ylabel(\"True positive Rate\")\n",
        "plt.title(\"ROC - curve\")\n",
        "sns.despine()"
      ],
      "execution_count": 74,
      "outputs": [
        {
          "output_type": "stream",
          "text": [
            "Area =  0.9516990712679434\n"
          ],
          "name": "stdout"
        },
        {
          "output_type": "display_data",
          "data": {
            "image/png": "[encoded data removed]",
            "text/plain": [
              "<Figure size 432x288 with 1 Axes>"
            ]
          },
          "metadata": {
            "tags": [],
            "needs_background": "light"
          }
        }
      ]
    },
    {
      "cell_type": "markdown",
      "metadata": {
        "id": "a4PVEccGmlGN"
      },
      "source": [
        "##### Decision Tree :"
      ]
    },
    {
      "cell_type": "code",
      "metadata": {
        "colab": {
          "base_uri": "https://localhost:8080/",
          "height": 360
        },
        "id": "zYbrhlYemh9e",
        "outputId": "2e075077-366f-44e6-efcb-3418c38d0539"
      },
      "source": [
        "DTree_model = DecisionTreeClassifier(criterion='entropy') #criterion = entopy, gini\n",
        "DTree_model.fit(X_train, y_train)\n",
        "DTree_pred = DTree_model.predict(X_test)\n",
        "\n",
        "DTree_acc = (round(accuracy_score(y_test, DTree_pred),2)*100)\n",
        "print(\"Accuracy = \", DTree_acc)\n",
        "\n",
        "print(\"Confusion Matrix : \")\n",
        "print(confusion_matrix(y_test, DTree_pred))\n",
        "sns.heatmap(confusion_matrix(y_test, DTree_pred),annot=True,cmap=\"BuGn\")"
      ],
      "execution_count": 52,
      "outputs": [
        {
          "output_type": "stream",
          "text": [
            "Accuracy =  93.0\n",
            "Confusion Matrix : \n",
            "[[4102  288]\n",
            " [ 284 4098]]\n"
          ],
          "name": "stdout"
        },
        {
          "output_type": "execute_result",
          "data": {
            "text/plain": [
              "<matplotlib.axes._subplots.AxesSubplot at 0x7f0dc97beb00>"
            ]
          },
          "metadata": {
            "tags": []
          },
          "execution_count": 52
        },
        {
          "output_type": "display_data",
          "data": {
            "image/png": "[encoded data removed]",
            "text/plain": [
              "<Figure size 432x288 with 2 Axes>"
            ]
          },
          "metadata": {
            "tags": [],
            "needs_background": "light"
          }
        }
      ]
    },
    {
      "cell_type": "code",
      "metadata": {
        "colab": {
          "base_uri": "https://localhost:8080/"
        },
        "id": "GpXGSBQHncfb",
        "outputId": "51079eb9-d4a7-4377-9998-ce14b70b35cc"
      },
      "source": [
        "DTree_f1 = f1_score(y_test,DTree_pred)\n",
        "print(\"F1 - score : \",DTree_f1)\n",
        "\n",
        "k_fold = KFold(n_splits=10, shuffle=True, random_state=0)\n",
        "DTree_cv = cross_val_score(DTree_model, X_train, y_train, cv=k_fold, n_jobs=1, scoring = 'accuracy').mean()\n",
        "print(\"CV Accuracy = \", DTree_cv*100)"
      ],
      "execution_count": 53,
      "outputs": [
        {
          "output_type": "stream",
          "text": [
            "F1 - score :  0.9347627737226277\n",
            "CV Accuracy =  93.316638332123\n"
          ],
          "name": "stdout"
        }
      ]
    },
    {
      "cell_type": "code",
      "metadata": {
        "colab": {
          "base_uri": "https://localhost:8080/"
        },
        "id": "4wA0QNAISJvZ",
        "outputId": "28e97cc1-4906-48f2-c848-8a3ada92558a"
      },
      "source": [
        "fpr,tpr,thresholds = roc_curve(y_test,DTree_model.predict_proba(X_test)[:,1])\n",
        "roc_auc_DTree = roc_auc_score(y_test,DTree_model.predict_proba(X_test)[:,1])\n",
        "print(\"Area = \",roc_auc_DTree)\n",
        "# plt.plot(fpr,tpr,label='Decision Tree')\n",
        "# plt.plot([0,1],[0,1],'r--')\n",
        "# plt.xlim([0.0,1.0])\n",
        "# plt.ylim([0.0,1.05])\n",
        "# plt.xlabel(\"False positive Rate\")\n",
        "# plt.ylabel(\"True positive Rate\")\n",
        "# plt.title(\"ROC - curve\")\n",
        "# sns.despine()"
      ],
      "execution_count": 54,
      "outputs": [
        {
          "output_type": "stream",
          "text": [
            "Area =  0.9357924164811731\n"
          ],
          "name": "stdout"
        }
      ]
    },
    {
      "cell_type": "markdown",
      "metadata": {
        "id": "tkav756-pZOG"
      },
      "source": [
        "##### SVM :"
      ]
    },
    {
      "cell_type": "code",
      "metadata": {
        "colab": {
          "base_uri": "https://localhost:8080/",
          "height": 360
        },
        "id": "AJZ1mW_UpTb_",
        "outputId": "869d1326-57ee-4cf4-bd63-10cb8fc23e27"
      },
      "source": [
        "SVC_model = SVC(kernel = 'sigmoid',probability=True)\n",
        "SVC_model.fit(X_train, y_train)\n",
        "SVC_pred = SVC_model.predict(X_test)\n",
        "\n",
        "SVC_acc = (round(accuracy_score(y_test, SVC_pred),2)*100)\n",
        "print(\"Accuracy = \", SVC_acc)\n",
        "\n",
        "print(\"Confusion Matrix : \")\n",
        "print(confusion_matrix(y_test, SVC_pred))\n",
        "sns.heatmap(confusion_matrix(y_test, SVC_pred),annot=True,cmap=\"BuGn\")"
      ],
      "execution_count": 64,
      "outputs": [
        {
          "output_type": "stream",
          "text": [
            "Accuracy =  77.0\n",
            "Confusion Matrix : \n",
            "[[3353 1037]\n",
            " [1007 3375]]\n"
          ],
          "name": "stdout"
        },
        {
          "output_type": "execute_result",
          "data": {
            "text/plain": [
              "<matplotlib.axes._subplots.AxesSubplot at 0x7f0dc0146c18>"
            ]
          },
          "metadata": {
            "tags": []
          },
          "execution_count": 64
        },
        {
          "output_type": "display_data",
          "data": {
            "image/png": "[encoded data removed]",
            "text/plain": [
              "<Figure size 432x288 with 2 Axes>"
            ]
          },
          "metadata": {
            "tags": [],
            "needs_background": "light"
          }
        }
      ]
    },
    {
      "cell_type": "code",
      "metadata": {
        "colab": {
          "base_uri": "https://localhost:8080/"
        },
        "id": "_7WNK3Kepsn_",
        "scrolled": false,
        "outputId": "c4c563e6-edd6-4560-f2cd-982115de0934"
      },
      "source": [
        "SVC_f1 = f1_score(y_test,SVC_pred)\n",
        "print(\"F1 - score : \",SVC_f1)\n",
        "\n",
        "k_fold = KFold(n_splits=10, shuffle=True, random_state=0)\n",
        "SVC_cv = (cross_val_score(SVC_model, X_train, y_train, cv=k_fold, n_jobs=1, scoring = 'accuracy').mean())\n",
        "print(\"CV Accuracy = \", SVC_cv*100)"
      ],
      "execution_count": 66,
      "outputs": [
        {
          "output_type": "stream",
          "text": [
            "F1 - score :  0.7675687969069821\n",
            "CV Accuracy =  77.8\n"
          ],
          "name": "stdout"
        }
      ]
    },
    {
      "cell_type": "code",
      "metadata": {
        "colab": {
          "base_uri": "https://localhost:8080/",
          "height": 314
        },
        "id": "WSEmWGjCSJvb",
        "outputId": "b2c917d0-55d9-40e9-dc27-8821160e20a5"
      },
      "source": [
        "fpr,tpr,thresholds = roc_curve(y_test,SVC_model.predict_proba(X_test)[:,1])\n",
        "roc_auc_SVC = roc_auc_score(y_test,SVC_model.predict_proba(X_test)[:,1])\n",
        "print(\"Area = \",roc_auc_SVC)\n",
        "plt.plot(fpr,tpr,label='SVM - sigmoid')\n",
        "plt.plot([0,1],[0,1],'r--')\n",
        "plt.xlim([0.0,1.0])\n",
        "plt.ylim([0.0,1.05])\n",
        "plt.xlabel(\"False positive Rate\")\n",
        "plt.ylabel(\"True positive Rate\")\n",
        "plt.title(\"ROC - curve\")\n",
        "sns.despine()"
      ],
      "execution_count": 67,
      "outputs": [
        {
          "output_type": "stream",
          "text": [
            "Area =  0.8353437753743052\n"
          ],
          "name": "stdout"
        },
        {
          "output_type": "display_data",
          "data": {
            "image/png": "[encoded data removed]",
            "text/plain": [
              "<Figure size 432x288 with 1 Axes>"
            ]
          },
          "metadata": {
            "tags": [],
            "needs_background": "light"
          }
        }
      ]
    },
    {
      "cell_type": "markdown",
      "metadata": {
        "id": "rNIAPeoT0_yv"
      },
      "source": [
        "###### Linear Kernal : "
      ]
    },
    {
      "cell_type": "code",
      "metadata": {
        "colab": {
          "base_uri": "https://localhost:8080/",
          "height": 360
        },
        "id": "u29DxgWf0_Mh",
        "outputId": "c4c52fd4-3375-417b-e6f6-9f6a7d8e0959"
      },
      "source": [
        "SVC_modelL = SVC(kernel = 'linear',probability=True)\n",
        "SVC_modelL.fit(X_train, y_train)\n",
        "SVC_predL = SVC_modelL.predict(X_test)\n",
        "\n",
        "SVC_accL = (round(accuracy_score(y_test, SVC_predL),2)*100)\n",
        "print(\"Accuracy = \", SVC_accL)\n",
        "\n",
        "print(\"Confusion Matrix : \")\n",
        "print(confusion_matrix(y_test, SVC_predL))\n",
        "sns.heatmap(confusion_matrix(y_test, SVC_predL),annot=True,cmap=\"BuGn\")"
      ],
      "execution_count": 68,
      "outputs": [
        {
          "output_type": "stream",
          "text": [
            "Accuracy =  87.0\n",
            "Confusion Matrix : \n",
            "[[3655  735]\n",
            " [ 430 3952]]\n"
          ],
          "name": "stdout"
        },
        {
          "output_type": "execute_result",
          "data": {
            "text/plain": [
              "<matplotlib.axes._subplots.AxesSubplot at 0x7f0dc0146518>"
            ]
          },
          "metadata": {
            "tags": []
          },
          "execution_count": 68
        },
        {
          "output_type": "display_data",
          "data": {
            "image/png": "[encoded data removed]",
            "text/plain": [
              "<Figure size 432x288 with 2 Axes>"
            ]
          },
          "metadata": {
            "tags": [],
            "needs_background": "light"
          }
        }
      ]
    },
    {
      "cell_type": "code",
      "metadata": {
        "colab": {
          "base_uri": "https://localhost:8080/"
        },
        "id": "b9d_dBDl1CHN",
        "outputId": "3fa25b55-8d87-4d17-e73e-46304a5ce968"
      },
      "source": [
        "SVC_f1L = f1_score(y_test,SVC_predL)\n",
        "print(\"F1 - score : \",SVC_f1L)\n",
        "\n",
        "k_fold = KFold(n_splits=10, shuffle=True, random_state=0)\n",
        "SVC_cvL = (cross_val_score(SVC_modelL, X_train, y_train, cv=k_fold, n_jobs=1, scoring = 'accuracy').mean())\n",
        "print(\"CV Accuracy = \", SVC_cvL*100)"
      ],
      "execution_count": 69,
      "outputs": [
        {
          "output_type": "stream",
          "text": [
            "F1 - score :  0.8715404123938691\n",
            "CV Accuracy =  87.26252147963875\n"
          ],
          "name": "stdout"
        }
      ]
    },
    {
      "cell_type": "code",
      "metadata": {
        "colab": {
          "base_uri": "https://localhost:8080/",
          "height": 314
        },
        "id": "VzeOB3D2SJvd",
        "outputId": "860bfc2c-eb4e-4b0c-f7cd-172ee5a87a7f"
      },
      "source": [
        "fpr,tpr,thresholds = roc_curve(y_test,SVC_modelL.predict_proba(X_test)[:,1])\n",
        "roc_auc_SVCL = roc_auc_score(y_test,SVC_predL)\n",
        "print(\"Area = \",roc_auc_SVCL)\n",
        "plt.plot(fpr,tpr,label='SVM - linear')\n",
        "plt.plot([0,1],[0,1],'r--')\n",
        "plt.xlim([0.0,1.0])\n",
        "plt.ylim([0.0,1.05])\n",
        "plt.xlabel(\"False positive Rate\")\n",
        "plt.ylabel(\"True positive Rate\")\n",
        "plt.title(\"ROC - curve\")\n",
        "sns.despine()"
      ],
      "execution_count": 70,
      "outputs": [
        {
          "output_type": "stream",
          "text": [
            "Area =  0.867222661769155\n"
          ],
          "name": "stdout"
        },
        {
          "output_type": "display_data",
          "data": {
            "image/png": "[encoded data removed]",
            "text/plain": [
              "<Figure size 432x288 with 1 Axes>"
            ]
          },
          "metadata": {
            "tags": [],
            "needs_background": "light"
          }
        }
      ]
    },
    {
      "cell_type": "markdown",
      "metadata": {
        "id": "o8b27EVvqG8j"
      },
      "source": [
        "##### Random Forest :"
      ]
    },
    {
      "cell_type": "code",
      "metadata": {
        "colab": {
          "base_uri": "https://localhost:8080/",
          "height": 360
        },
        "id": "JWyqd9dVpshF",
        "outputId": "1775239f-6cd6-4738-e95d-5083e065f5ee"
      },
      "source": [
        "from sklearn.ensemble import RandomForestClassifier\n",
        "\n",
        "RF_model = RandomForestClassifier(n_estimators = 200)#criterion = entopy,gini\n",
        "RF_model.fit(X_train, y_train)\n",
        "RF_pred = RF_model.predict(X_test)\n",
        "\n",
        "RF_acc = (round(accuracy_score(y_test, RF_pred),2)*100)\n",
        "print(\"Accuracy = \", RF_acc)\n",
        "\n",
        "print(\"Confusion Matrix : \")\n",
        "print(confusion_matrix(y_test, RF_pred ))\n",
        "sns.heatmap(confusion_matrix(y_test, RF_pred),annot=True,cmap=\"BuGn\")"
      ],
      "execution_count": 55,
      "outputs": [
        {
          "output_type": "stream",
          "text": [
            "Accuracy =  95.0\n",
            "Confusion Matrix : \n",
            "[[4158  232]\n",
            " [ 192 4190]]\n"
          ],
          "name": "stdout"
        },
        {
          "output_type": "execute_result",
          "data": {
            "text/plain": [
              "<matplotlib.axes._subplots.AxesSubplot at 0x7f0dc9086710>"
            ]
          },
          "metadata": {
            "tags": []
          },
          "execution_count": 55
        },
        {
          "output_type": "display_data",
          "data": {
            "image/png": "[encoded data removed]",
            "text/plain": [
              "<Figure size 432x288 with 2 Axes>"
            ]
          },
          "metadata": {
            "tags": [],
            "needs_background": "light"
          }
        }
      ]
    },
    {
      "cell_type": "code",
      "metadata": {
        "colab": {
          "base_uri": "https://localhost:8080/"
        },
        "id": "LTr6z0L7qXQU",
        "outputId": "6fe071e9-339a-4bf8-f7d8-2d399dd94c07"
      },
      "source": [
        "RF_f1 = f1_score(y_test,RF_pred)\n",
        "print(\"F1 - score : \",RF_f1)\n",
        "\n",
        "k_fold = KFold(n_splits=10, shuffle=True, random_state=0)\n",
        "RF_cv = (cross_val_score(RF_model, X_train, y_train, cv=k_fold, n_jobs=1, scoring = 'accuracy').mean())\n",
        "print(\"CV Accuracy = \", RF_cv*100)"
      ],
      "execution_count": 56,
      "outputs": [
        {
          "output_type": "stream",
          "text": [
            "F1 - score :  0.95184007269423\n",
            "CV Accuracy =  95.33920682998811\n"
          ],
          "name": "stdout"
        }
      ]
    },
    {
      "cell_type": "code",
      "metadata": {
        "colab": {
          "base_uri": "https://localhost:8080/",
          "height": 314
        },
        "id": "a1qnw-sESJvd",
        "outputId": "1c7f5cdf-80b0-43d2-a2fd-11840d2366c1"
      },
      "source": [
        "fpr,tpr,thresholds = roc_curve(y_test,RF_model.predict_proba(X_test)[:,1])\n",
        "roc_auc_RF = roc_auc_score(y_test,RF_pred)\n",
        "print(\"Area = \",roc_auc_RF)\n",
        "plt.plot(fpr,tpr,label='Random Forest')\n",
        "plt.plot([0,1],[0,1],'r--')\n",
        "plt.xlim([0.0,1.0])\n",
        "plt.ylim([0.0,1.05])\n",
        "plt.xlabel(\"False positive Rate\")\n",
        "plt.ylabel(\"True positive Rate\")\n",
        "plt.title(\"ROC - curve\")\n",
        "sns.despine()"
      ],
      "execution_count": 57,
      "outputs": [
        {
          "output_type": "stream",
          "text": [
            "Area =  0.9516685051395801\n"
          ],
          "name": "stdout"
        },
        {
          "output_type": "display_data",
          "data": {
            "image/png": "[encoded data removed]",
            "text/plain": [
              "<Figure size 432x288 with 1 Axes>"
            ]
          },
          "metadata": {
            "tags": [],
            "needs_background": "light"
          }
        }
      ]
    },
    {
      "cell_type": "markdown",
      "metadata": {
        "id": "GVKqpC-TqvFp"
      },
      "source": [
        "##### Naive Bayes : "
      ]
    },
    {
      "cell_type": "code",
      "metadata": {
        "colab": {
          "base_uri": "https://localhost:8080/",
          "height": 360
        },
        "id": "ZKWfx7p6qsVE",
        "outputId": "f0e8c283-0873-4740-f475-c4dda20da12f"
      },
      "source": [
        "from sklearn.naive_bayes import GaussianNB\n",
        "\n",
        "GNB_model = GaussianNB()\n",
        "GNB_model.fit(X_train, y_train)\n",
        "GNB_pred  = GNB_model.predict(X_test)\n",
        "\n",
        "GNB_acc   = (round(accuracy_score(y_test, GNB_pred),2)*100)\n",
        "print(\"Accuracy = \", GNB_acc)\n",
        "\n",
        "print(\"Confusion Matrix :\")\n",
        "print(confusion_matrix(y_test, GNB_pred ))\n",
        "sns.heatmap(confusion_matrix(y_test, GNB_pred),annot=True,cmap=\"BuGn\")"
      ],
      "execution_count": 61,
      "outputs": [
        {
          "output_type": "stream",
          "text": [
            "Accuracy =  75.0\n",
            "Confusion Matrix :\n",
            "[[3590  800]\n",
            " [1395 2987]]\n"
          ],
          "name": "stdout"
        },
        {
          "output_type": "execute_result",
          "data": {
            "text/plain": [
              "<matplotlib.axes._subplots.AxesSubplot at 0x7f0dc023d630>"
            ]
          },
          "metadata": {
            "tags": []
          },
          "execution_count": 61
        },
        {
          "output_type": "display_data",
          "data": {
            "image/png": "[encoded data removed]",
            "text/plain": [
              "<Figure size 432x288 with 2 Axes>"
            ]
          },
          "metadata": {
            "tags": [],
            "needs_background": "light"
          }
        }
      ]
    },
    {
      "cell_type": "code",
      "metadata": {
        "colab": {
          "base_uri": "https://localhost:8080/"
        },
        "id": "3J-9PA_7q_aI",
        "outputId": "1797f86d-5b36-4001-fd7d-2ace3b392506"
      },
      "source": [
        "GNB_f1 = f1_score(y_test,GNB_pred)\n",
        "print(\"F1 - score : \",GNB_f1)\n",
        "\n",
        "k_fold = KFold(n_splits=10, shuffle=True, random_state=0)\n",
        "GNB_cv = (cross_val_score(GNB_model , X_train, y_train, cv=k_fold, n_jobs=1, scoring = 'accuracy').mean())\n",
        "print(\"CV Accuracy = \", GNB_cv*100)"
      ],
      "execution_count": 62,
      "outputs": [
        {
          "output_type": "stream",
          "text": [
            "F1 - score :  0.7313012608642429\n",
            "CV Accuracy =  75.31713735264297\n"
          ],
          "name": "stdout"
        }
      ]
    },
    {
      "cell_type": "code",
      "metadata": {
        "colab": {
          "base_uri": "https://localhost:8080/",
          "height": 314
        },
        "id": "lH1afFzGSJvh",
        "outputId": "6371eaab-a880-4dca-aa24-60bc807177cd"
      },
      "source": [
        "fpr,tpr,thresholds = roc_curve(y_test,GNB_model.predict_proba(X_test)[:,1])\n",
        "roc_auc_GNB = roc_auc_score(y_test,GNB_pred)\n",
        "print(\"Area = \",roc_auc_GNB)\n",
        "plt.plot(fpr,tpr,label='Naive Bayes')\n",
        "plt.plot([0,1],[0,1],'r--')\n",
        "plt.xlim([0.0,1.0])\n",
        "plt.ylim([0.0,1.05])\n",
        "plt.xlabel(\"False positive Rate\")\n",
        "plt.ylabel(\"True positive Rate\")\n",
        "plt.title(\"ROC - curve\")\n",
        "sns.despine()"
      ],
      "execution_count": 63,
      "outputs": [
        {
          "output_type": "stream",
          "text": [
            "Area =  0.7497099336798188\n"
          ],
          "name": "stdout"
        },
        {
          "output_type": "display_data",
          "data": {
            "image/png": "[encoded data removed]",
            "text/plain": [
              "<Figure size 432x288 with 1 Axes>"
            ]
          },
          "metadata": {
            "tags": [],
            "needs_background": "light"
          }
        }
      ]
    },
    {
      "cell_type": "markdown",
      "metadata": {
        "id": "IubNbf4p0z7W"
      },
      "source": [
        "## Final Report: "
      ]
    },
    {
      "cell_type": "code",
      "metadata": {
        "colab": {
          "base_uri": "https://localhost:8080/",
          "height": 269
        },
        "id": "jqcMxlm2rveu",
        "outputId": "2869cc67-1631-475d-ee36-8b7682a4e47d"
      },
      "source": [
        "report = pd.DataFrame({\n",
        "                'Models': ['Random Forest Classifier', 'Decision Tree Classifier', 'SVM - sigmoid',\n",
        "                           'K-Nearest Neighbors', 'Logistic Regression', 'Gausian NB','SVM - linear'],\n",
        "                'Train Score':  [RF_acc, DTree_acc, SVC_acc, KNN_acc, LR_acc, GNB_acc,SVC_accL],\n",
        "                'CV Score':  [RF_cv, DTree_cv, SVC_cv, KNN_cv, LR_cv, GNB_cv,SVC_cvL],\n",
        "                'F1-Score':  [RF_f1, DTree_f1, SVC_f1, KNN_f1, LR_f1, GNB_f1,SVC_f1L],\n",
        "                'AUC':  [roc_auc_RF, roc_auc_DTree, roc_auc_SVC, roc_auc_KNN, roc_auc_LR, roc_auc_GNB,roc_auc_SVCL]\n",
        "                })\n",
        "\n",
        "report[\"CV Score\"] = report['CV Score'].apply(lambda x : round(x*100,1))\n",
        "\n",
        "report.sort_values(by='F1-Score', ascending=False).reset_index(drop=True)"
      ],
      "execution_count": 77,
      "outputs": [
        {
          "output_type": "execute_result",
          "data": {
            "text/html": [
              "<div>\n",
              "<style scoped>\n",
              "    .dataframe tbody tr th:only-of-type {\n",
              "        vertical-align: middle;\n",
              "    }\n",
              "\n",
              "    .dataframe tbody tr th {\n",
              "        vertical-align: top;\n",
              "    }\n",
              "\n",
              "    .dataframe thead th {\n",
              "        text-align: right;\n",
              "    }\n",
              "</style>\n",
              "<table border=\"1\" class=\"dataframe\">\n",
              "  <thead>\n",
              "    <tr style=\"text-align: right;\">\n",
              "      <th></th>\n",
              "      <th>Models</th>\n",
              "      <th>Train Score</th>\n",
              "      <th>CV Score</th>\n",
              "      <th>F1-Score</th>\n",
              "      <th>AUC</th>\n",
              "    </tr>\n",
              "  </thead>\n",
              "  <tbody>\n",
              "    <tr>\n",
              "      <th>0</th>\n",
              "      <td>K-Nearest Neighbors</td>\n",
              "      <td>95.0</td>\n",
              "      <td>95.0</td>\n",
              "      <td>0.953396</td>\n",
              "      <td>0.951699</td>\n",
              "    </tr>\n",
              "    <tr>\n",
              "      <th>1</th>\n",
              "      <td>Random Forest Classifier</td>\n",
              "      <td>95.0</td>\n",
              "      <td>95.3</td>\n",
              "      <td>0.951840</td>\n",
              "      <td>0.951669</td>\n",
              "    </tr>\n",
              "    <tr>\n",
              "      <th>2</th>\n",
              "      <td>Decision Tree Classifier</td>\n",
              "      <td>93.0</td>\n",
              "      <td>93.3</td>\n",
              "      <td>0.934763</td>\n",
              "      <td>0.935792</td>\n",
              "    </tr>\n",
              "    <tr>\n",
              "      <th>3</th>\n",
              "      <td>SVM - linear</td>\n",
              "      <td>87.0</td>\n",
              "      <td>87.3</td>\n",
              "      <td>0.871540</td>\n",
              "      <td>0.867223</td>\n",
              "    </tr>\n",
              "    <tr>\n",
              "      <th>4</th>\n",
              "      <td>Logistic Regression</td>\n",
              "      <td>87.0</td>\n",
              "      <td>86.9</td>\n",
              "      <td>0.869184</td>\n",
              "      <td>0.867319</td>\n",
              "    </tr>\n",
              "    <tr>\n",
              "      <th>5</th>\n",
              "      <td>SVM - sigmoid</td>\n",
              "      <td>77.0</td>\n",
              "      <td>77.8</td>\n",
              "      <td>0.767569</td>\n",
              "      <td>0.835344</td>\n",
              "    </tr>\n",
              "    <tr>\n",
              "      <th>6</th>\n",
              "      <td>Gausian NB</td>\n",
              "      <td>75.0</td>\n",
              "      <td>75.3</td>\n",
              "      <td>0.731301</td>\n",
              "      <td>0.749710</td>\n",
              "    </tr>\n",
              "  </tbody>\n",
              "</table>\n",
              "</div>"
            ],
            "text/plain": [
              "                     Models  Train Score  CV Score  F1-Score       AUC\n",
              "0       K-Nearest Neighbors         95.0      95.0  0.953396  0.951699\n",
              "1  Random Forest Classifier         95.0      95.3  0.951840  0.951669\n",
              "2  Decision Tree Classifier         93.0      93.3  0.934763  0.935792\n",
              "3              SVM - linear         87.0      87.3  0.871540  0.867223\n",
              "4       Logistic Regression         87.0      86.9  0.869184  0.867319\n",
              "5             SVM - sigmoid         77.0      77.8  0.767569  0.835344\n",
              "6                Gausian NB         75.0      75.3  0.731301  0.749710"
            ]
          },
          "metadata": {
            "tags": []
          },
          "execution_count": 77
        }
      ]
    },
    {
      "cell_type": "markdown",
      "metadata": {
        "id": "fqlqGdoJHEbo"
      },
      "source": [
        "*You have reached the end of this Assignemnt !*\n",
        "<hr>"
      ]
    },
    {
      "cell_type": "code",
      "metadata": {
        "id": "RXOma0Q6ZqoC"
      },
      "source": [
        "    "
      ],
      "execution_count": null,
      "outputs": []
    }
  ]
}